{
 "cells": [
  {
   "cell_type": "markdown",
   "metadata": {},
   "source": [
    "# ML Pipeline Preparation\n",
    "Follow the instructions below to help you create your ML pipeline.\n",
    "### 1. Import libraries and load data from database.\n",
    "- Import Python libraries\n",
    "- Load dataset from database with [`read_sql_table`](https://pandas.pydata.org/pandas-docs/stable/generated/pandas.read_sql_table.html)\n",
    "- Define feature and target variables X and Y"
   ]
  },
  {
   "cell_type": "code",
   "execution_count": 1,
   "metadata": {},
   "outputs": [],
   "source": [
    "# import libraries\n",
    "import pandas as pd\n",
    "from sqlalchemy import create_engine"
   ]
  },
  {
   "cell_type": "code",
   "execution_count": 2,
   "metadata": {},
   "outputs": [],
   "source": [
    "# load data from database\n",
    "engine = create_engine('sqlite:///../data/DisasterResponse.db')\n",
    "df = pd.read_sql_table('Messages', engine)"
   ]
  },
  {
   "cell_type": "code",
   "execution_count": 3,
   "metadata": {},
   "outputs": [
    {
     "data": {
      "text/html": [
       "<div>\n",
       "<style scoped>\n",
       "    .dataframe tbody tr th:only-of-type {\n",
       "        vertical-align: middle;\n",
       "    }\n",
       "\n",
       "    .dataframe tbody tr th {\n",
       "        vertical-align: top;\n",
       "    }\n",
       "\n",
       "    .dataframe thead th {\n",
       "        text-align: right;\n",
       "    }\n",
       "</style>\n",
       "<table border=\"1\" class=\"dataframe\">\n",
       "  <thead>\n",
       "    <tr style=\"text-align: right;\">\n",
       "      <th></th>\n",
       "      <th>id</th>\n",
       "      <th>message</th>\n",
       "      <th>original</th>\n",
       "      <th>genre</th>\n",
       "      <th>related</th>\n",
       "      <th>request</th>\n",
       "      <th>offer</th>\n",
       "      <th>aid_related</th>\n",
       "      <th>medical_help</th>\n",
       "      <th>medical_products</th>\n",
       "      <th>...</th>\n",
       "      <th>aid_centers</th>\n",
       "      <th>other_infrastructure</th>\n",
       "      <th>weather_related</th>\n",
       "      <th>floods</th>\n",
       "      <th>storm</th>\n",
       "      <th>fire</th>\n",
       "      <th>earthquake</th>\n",
       "      <th>cold</th>\n",
       "      <th>other_weather</th>\n",
       "      <th>direct_report</th>\n",
       "    </tr>\n",
       "  </thead>\n",
       "  <tbody>\n",
       "    <tr>\n",
       "      <th>0</th>\n",
       "      <td>2</td>\n",
       "      <td>Weather update - a cold front from Cuba that c...</td>\n",
       "      <td>Un front froid se retrouve sur Cuba ce matin. ...</td>\n",
       "      <td>direct</td>\n",
       "      <td>1</td>\n",
       "      <td>0</td>\n",
       "      <td>0</td>\n",
       "      <td>0</td>\n",
       "      <td>0</td>\n",
       "      <td>0</td>\n",
       "      <td>...</td>\n",
       "      <td>0</td>\n",
       "      <td>0</td>\n",
       "      <td>0</td>\n",
       "      <td>0</td>\n",
       "      <td>0</td>\n",
       "      <td>0</td>\n",
       "      <td>0</td>\n",
       "      <td>0</td>\n",
       "      <td>0</td>\n",
       "      <td>0</td>\n",
       "    </tr>\n",
       "    <tr>\n",
       "      <th>1</th>\n",
       "      <td>7</td>\n",
       "      <td>Is the Hurricane over or is it not over</td>\n",
       "      <td>Cyclone nan fini osinon li pa fini</td>\n",
       "      <td>direct</td>\n",
       "      <td>1</td>\n",
       "      <td>0</td>\n",
       "      <td>0</td>\n",
       "      <td>1</td>\n",
       "      <td>0</td>\n",
       "      <td>0</td>\n",
       "      <td>...</td>\n",
       "      <td>0</td>\n",
       "      <td>0</td>\n",
       "      <td>1</td>\n",
       "      <td>0</td>\n",
       "      <td>1</td>\n",
       "      <td>0</td>\n",
       "      <td>0</td>\n",
       "      <td>0</td>\n",
       "      <td>0</td>\n",
       "      <td>0</td>\n",
       "    </tr>\n",
       "    <tr>\n",
       "      <th>2</th>\n",
       "      <td>8</td>\n",
       "      <td>Looking for someone but no name</td>\n",
       "      <td>Patnm, di Maryani relem pou li banm nouvel li ...</td>\n",
       "      <td>direct</td>\n",
       "      <td>1</td>\n",
       "      <td>0</td>\n",
       "      <td>0</td>\n",
       "      <td>0</td>\n",
       "      <td>0</td>\n",
       "      <td>0</td>\n",
       "      <td>...</td>\n",
       "      <td>0</td>\n",
       "      <td>0</td>\n",
       "      <td>0</td>\n",
       "      <td>0</td>\n",
       "      <td>0</td>\n",
       "      <td>0</td>\n",
       "      <td>0</td>\n",
       "      <td>0</td>\n",
       "      <td>0</td>\n",
       "      <td>0</td>\n",
       "    </tr>\n",
       "    <tr>\n",
       "      <th>3</th>\n",
       "      <td>9</td>\n",
       "      <td>UN reports Leogane 80-90 destroyed. Only Hospi...</td>\n",
       "      <td>UN reports Leogane 80-90 destroyed. Only Hospi...</td>\n",
       "      <td>direct</td>\n",
       "      <td>1</td>\n",
       "      <td>1</td>\n",
       "      <td>0</td>\n",
       "      <td>1</td>\n",
       "      <td>0</td>\n",
       "      <td>1</td>\n",
       "      <td>...</td>\n",
       "      <td>0</td>\n",
       "      <td>0</td>\n",
       "      <td>0</td>\n",
       "      <td>0</td>\n",
       "      <td>0</td>\n",
       "      <td>0</td>\n",
       "      <td>0</td>\n",
       "      <td>0</td>\n",
       "      <td>0</td>\n",
       "      <td>0</td>\n",
       "    </tr>\n",
       "    <tr>\n",
       "      <th>4</th>\n",
       "      <td>12</td>\n",
       "      <td>says: west side of Haiti, rest of the country ...</td>\n",
       "      <td>facade ouest d Haiti et le reste du pays aujou...</td>\n",
       "      <td>direct</td>\n",
       "      <td>1</td>\n",
       "      <td>0</td>\n",
       "      <td>0</td>\n",
       "      <td>0</td>\n",
       "      <td>0</td>\n",
       "      <td>0</td>\n",
       "      <td>...</td>\n",
       "      <td>0</td>\n",
       "      <td>0</td>\n",
       "      <td>0</td>\n",
       "      <td>0</td>\n",
       "      <td>0</td>\n",
       "      <td>0</td>\n",
       "      <td>0</td>\n",
       "      <td>0</td>\n",
       "      <td>0</td>\n",
       "      <td>0</td>\n",
       "    </tr>\n",
       "  </tbody>\n",
       "</table>\n",
       "<p>5 rows × 40 columns</p>\n",
       "</div>"
      ],
      "text/plain": [
       "   id                                            message  \\\n",
       "0   2  Weather update - a cold front from Cuba that c...   \n",
       "1   7            Is the Hurricane over or is it not over   \n",
       "2   8                    Looking for someone but no name   \n",
       "3   9  UN reports Leogane 80-90 destroyed. Only Hospi...   \n",
       "4  12  says: west side of Haiti, rest of the country ...   \n",
       "\n",
       "                                            original   genre  related  \\\n",
       "0  Un front froid se retrouve sur Cuba ce matin. ...  direct        1   \n",
       "1                 Cyclone nan fini osinon li pa fini  direct        1   \n",
       "2  Patnm, di Maryani relem pou li banm nouvel li ...  direct        1   \n",
       "3  UN reports Leogane 80-90 destroyed. Only Hospi...  direct        1   \n",
       "4  facade ouest d Haiti et le reste du pays aujou...  direct        1   \n",
       "\n",
       "   request  offer  aid_related  medical_help  medical_products  ...  \\\n",
       "0        0      0            0             0                 0  ...   \n",
       "1        0      0            1             0                 0  ...   \n",
       "2        0      0            0             0                 0  ...   \n",
       "3        1      0            1             0                 1  ...   \n",
       "4        0      0            0             0                 0  ...   \n",
       "\n",
       "   aid_centers  other_infrastructure  weather_related  floods  storm  fire  \\\n",
       "0            0                     0                0       0      0     0   \n",
       "1            0                     0                1       0      1     0   \n",
       "2            0                     0                0       0      0     0   \n",
       "3            0                     0                0       0      0     0   \n",
       "4            0                     0                0       0      0     0   \n",
       "\n",
       "   earthquake  cold  other_weather  direct_report  \n",
       "0           0     0              0              0  \n",
       "1           0     0              0              0  \n",
       "2           0     0              0              0  \n",
       "3           0     0              0              0  \n",
       "4           0     0              0              0  \n",
       "\n",
       "[5 rows x 40 columns]"
      ]
     },
     "execution_count": 3,
     "metadata": {},
     "output_type": "execute_result"
    }
   ],
   "source": [
    "df.head()"
   ]
  },
  {
   "cell_type": "code",
   "execution_count": 4,
   "metadata": {},
   "outputs": [],
   "source": [
    "X = df['message']\n",
    "Y = df.drop(['id', 'message', 'original', 'genre'], axis=1)"
   ]
  },
  {
   "cell_type": "code",
   "execution_count": 5,
   "metadata": {},
   "outputs": [
    {
     "name": "stdout",
     "output_type": "stream",
     "text": [
      "<class 'pandas.core.frame.DataFrame'>\n",
      "RangeIndex: 26216 entries, 0 to 26215\n",
      "Data columns (total 36 columns):\n",
      " #   Column                  Non-Null Count  Dtype\n",
      "---  ------                  --------------  -----\n",
      " 0   related                 26216 non-null  int64\n",
      " 1   request                 26216 non-null  int64\n",
      " 2   offer                   26216 non-null  int64\n",
      " 3   aid_related             26216 non-null  int64\n",
      " 4   medical_help            26216 non-null  int64\n",
      " 5   medical_products        26216 non-null  int64\n",
      " 6   search_and_rescue       26216 non-null  int64\n",
      " 7   security                26216 non-null  int64\n",
      " 8   military                26216 non-null  int64\n",
      " 9   child_alone             26216 non-null  int64\n",
      " 10  water                   26216 non-null  int64\n",
      " 11  food                    26216 non-null  int64\n",
      " 12  shelter                 26216 non-null  int64\n",
      " 13  clothing                26216 non-null  int64\n",
      " 14  money                   26216 non-null  int64\n",
      " 15  missing_people          26216 non-null  int64\n",
      " 16  refugees                26216 non-null  int64\n",
      " 17  death                   26216 non-null  int64\n",
      " 18  other_aid               26216 non-null  int64\n",
      " 19  infrastructure_related  26216 non-null  int64\n",
      " 20  transport               26216 non-null  int64\n",
      " 21  buildings               26216 non-null  int64\n",
      " 22  electricity             26216 non-null  int64\n",
      " 23  tools                   26216 non-null  int64\n",
      " 24  hospitals               26216 non-null  int64\n",
      " 25  shops                   26216 non-null  int64\n",
      " 26  aid_centers             26216 non-null  int64\n",
      " 27  other_infrastructure    26216 non-null  int64\n",
      " 28  weather_related         26216 non-null  int64\n",
      " 29  floods                  26216 non-null  int64\n",
      " 30  storm                   26216 non-null  int64\n",
      " 31  fire                    26216 non-null  int64\n",
      " 32  earthquake              26216 non-null  int64\n",
      " 33  cold                    26216 non-null  int64\n",
      " 34  other_weather           26216 non-null  int64\n",
      " 35  direct_report           26216 non-null  int64\n",
      "dtypes: int64(36)\n",
      "memory usage: 7.2 MB\n"
     ]
    }
   ],
   "source": [
    "Y.info()"
   ]
  },
  {
   "cell_type": "code",
   "execution_count": 6,
   "metadata": {},
   "outputs": [
    {
     "data": {
      "text/html": [
       "<div>\n",
       "<style scoped>\n",
       "    .dataframe tbody tr th:only-of-type {\n",
       "        vertical-align: middle;\n",
       "    }\n",
       "\n",
       "    .dataframe tbody tr th {\n",
       "        vertical-align: top;\n",
       "    }\n",
       "\n",
       "    .dataframe thead th {\n",
       "        text-align: right;\n",
       "    }\n",
       "</style>\n",
       "<table border=\"1\" class=\"dataframe\">\n",
       "  <thead>\n",
       "    <tr style=\"text-align: right;\">\n",
       "      <th></th>\n",
       "      <th>related</th>\n",
       "      <th>request</th>\n",
       "      <th>offer</th>\n",
       "      <th>aid_related</th>\n",
       "      <th>medical_help</th>\n",
       "      <th>medical_products</th>\n",
       "      <th>search_and_rescue</th>\n",
       "      <th>security</th>\n",
       "      <th>military</th>\n",
       "      <th>child_alone</th>\n",
       "      <th>...</th>\n",
       "      <th>aid_centers</th>\n",
       "      <th>other_infrastructure</th>\n",
       "      <th>weather_related</th>\n",
       "      <th>floods</th>\n",
       "      <th>storm</th>\n",
       "      <th>fire</th>\n",
       "      <th>earthquake</th>\n",
       "      <th>cold</th>\n",
       "      <th>other_weather</th>\n",
       "      <th>direct_report</th>\n",
       "    </tr>\n",
       "  </thead>\n",
       "  <tbody>\n",
       "    <tr>\n",
       "      <th>count</th>\n",
       "      <td>26216.000000</td>\n",
       "      <td>26216.000000</td>\n",
       "      <td>26216.000000</td>\n",
       "      <td>26216.000000</td>\n",
       "      <td>26216.000000</td>\n",
       "      <td>26216.000000</td>\n",
       "      <td>26216.000000</td>\n",
       "      <td>26216.000000</td>\n",
       "      <td>26216.000000</td>\n",
       "      <td>26216.0</td>\n",
       "      <td>...</td>\n",
       "      <td>26216.000000</td>\n",
       "      <td>26216.000000</td>\n",
       "      <td>26216.000000</td>\n",
       "      <td>26216.000000</td>\n",
       "      <td>26216.000000</td>\n",
       "      <td>26216.000000</td>\n",
       "      <td>26216.000000</td>\n",
       "      <td>26216.000000</td>\n",
       "      <td>26216.000000</td>\n",
       "      <td>26216.000000</td>\n",
       "    </tr>\n",
       "    <tr>\n",
       "      <th>mean</th>\n",
       "      <td>0.773650</td>\n",
       "      <td>0.170659</td>\n",
       "      <td>0.004501</td>\n",
       "      <td>0.414251</td>\n",
       "      <td>0.079493</td>\n",
       "      <td>0.050084</td>\n",
       "      <td>0.027617</td>\n",
       "      <td>0.017966</td>\n",
       "      <td>0.032804</td>\n",
       "      <td>0.0</td>\n",
       "      <td>...</td>\n",
       "      <td>0.011787</td>\n",
       "      <td>0.043904</td>\n",
       "      <td>0.278341</td>\n",
       "      <td>0.082202</td>\n",
       "      <td>0.093187</td>\n",
       "      <td>0.010757</td>\n",
       "      <td>0.093645</td>\n",
       "      <td>0.020217</td>\n",
       "      <td>0.052487</td>\n",
       "      <td>0.193584</td>\n",
       "    </tr>\n",
       "    <tr>\n",
       "      <th>std</th>\n",
       "      <td>0.435276</td>\n",
       "      <td>0.376218</td>\n",
       "      <td>0.066940</td>\n",
       "      <td>0.492602</td>\n",
       "      <td>0.270513</td>\n",
       "      <td>0.218122</td>\n",
       "      <td>0.163875</td>\n",
       "      <td>0.132831</td>\n",
       "      <td>0.178128</td>\n",
       "      <td>0.0</td>\n",
       "      <td>...</td>\n",
       "      <td>0.107927</td>\n",
       "      <td>0.204887</td>\n",
       "      <td>0.448191</td>\n",
       "      <td>0.274677</td>\n",
       "      <td>0.290700</td>\n",
       "      <td>0.103158</td>\n",
       "      <td>0.291340</td>\n",
       "      <td>0.140743</td>\n",
       "      <td>0.223011</td>\n",
       "      <td>0.395114</td>\n",
       "    </tr>\n",
       "    <tr>\n",
       "      <th>min</th>\n",
       "      <td>0.000000</td>\n",
       "      <td>0.000000</td>\n",
       "      <td>0.000000</td>\n",
       "      <td>0.000000</td>\n",
       "      <td>0.000000</td>\n",
       "      <td>0.000000</td>\n",
       "      <td>0.000000</td>\n",
       "      <td>0.000000</td>\n",
       "      <td>0.000000</td>\n",
       "      <td>0.0</td>\n",
       "      <td>...</td>\n",
       "      <td>0.000000</td>\n",
       "      <td>0.000000</td>\n",
       "      <td>0.000000</td>\n",
       "      <td>0.000000</td>\n",
       "      <td>0.000000</td>\n",
       "      <td>0.000000</td>\n",
       "      <td>0.000000</td>\n",
       "      <td>0.000000</td>\n",
       "      <td>0.000000</td>\n",
       "      <td>0.000000</td>\n",
       "    </tr>\n",
       "    <tr>\n",
       "      <th>25%</th>\n",
       "      <td>1.000000</td>\n",
       "      <td>0.000000</td>\n",
       "      <td>0.000000</td>\n",
       "      <td>0.000000</td>\n",
       "      <td>0.000000</td>\n",
       "      <td>0.000000</td>\n",
       "      <td>0.000000</td>\n",
       "      <td>0.000000</td>\n",
       "      <td>0.000000</td>\n",
       "      <td>0.0</td>\n",
       "      <td>...</td>\n",
       "      <td>0.000000</td>\n",
       "      <td>0.000000</td>\n",
       "      <td>0.000000</td>\n",
       "      <td>0.000000</td>\n",
       "      <td>0.000000</td>\n",
       "      <td>0.000000</td>\n",
       "      <td>0.000000</td>\n",
       "      <td>0.000000</td>\n",
       "      <td>0.000000</td>\n",
       "      <td>0.000000</td>\n",
       "    </tr>\n",
       "    <tr>\n",
       "      <th>50%</th>\n",
       "      <td>1.000000</td>\n",
       "      <td>0.000000</td>\n",
       "      <td>0.000000</td>\n",
       "      <td>0.000000</td>\n",
       "      <td>0.000000</td>\n",
       "      <td>0.000000</td>\n",
       "      <td>0.000000</td>\n",
       "      <td>0.000000</td>\n",
       "      <td>0.000000</td>\n",
       "      <td>0.0</td>\n",
       "      <td>...</td>\n",
       "      <td>0.000000</td>\n",
       "      <td>0.000000</td>\n",
       "      <td>0.000000</td>\n",
       "      <td>0.000000</td>\n",
       "      <td>0.000000</td>\n",
       "      <td>0.000000</td>\n",
       "      <td>0.000000</td>\n",
       "      <td>0.000000</td>\n",
       "      <td>0.000000</td>\n",
       "      <td>0.000000</td>\n",
       "    </tr>\n",
       "    <tr>\n",
       "      <th>75%</th>\n",
       "      <td>1.000000</td>\n",
       "      <td>0.000000</td>\n",
       "      <td>0.000000</td>\n",
       "      <td>1.000000</td>\n",
       "      <td>0.000000</td>\n",
       "      <td>0.000000</td>\n",
       "      <td>0.000000</td>\n",
       "      <td>0.000000</td>\n",
       "      <td>0.000000</td>\n",
       "      <td>0.0</td>\n",
       "      <td>...</td>\n",
       "      <td>0.000000</td>\n",
       "      <td>0.000000</td>\n",
       "      <td>1.000000</td>\n",
       "      <td>0.000000</td>\n",
       "      <td>0.000000</td>\n",
       "      <td>0.000000</td>\n",
       "      <td>0.000000</td>\n",
       "      <td>0.000000</td>\n",
       "      <td>0.000000</td>\n",
       "      <td>0.000000</td>\n",
       "    </tr>\n",
       "    <tr>\n",
       "      <th>max</th>\n",
       "      <td>2.000000</td>\n",
       "      <td>1.000000</td>\n",
       "      <td>1.000000</td>\n",
       "      <td>1.000000</td>\n",
       "      <td>1.000000</td>\n",
       "      <td>1.000000</td>\n",
       "      <td>1.000000</td>\n",
       "      <td>1.000000</td>\n",
       "      <td>1.000000</td>\n",
       "      <td>0.0</td>\n",
       "      <td>...</td>\n",
       "      <td>1.000000</td>\n",
       "      <td>1.000000</td>\n",
       "      <td>1.000000</td>\n",
       "      <td>1.000000</td>\n",
       "      <td>1.000000</td>\n",
       "      <td>1.000000</td>\n",
       "      <td>1.000000</td>\n",
       "      <td>1.000000</td>\n",
       "      <td>1.000000</td>\n",
       "      <td>1.000000</td>\n",
       "    </tr>\n",
       "  </tbody>\n",
       "</table>\n",
       "<p>8 rows × 36 columns</p>\n",
       "</div>"
      ],
      "text/plain": [
       "            related       request         offer   aid_related  medical_help  \\\n",
       "count  26216.000000  26216.000000  26216.000000  26216.000000  26216.000000   \n",
       "mean       0.773650      0.170659      0.004501      0.414251      0.079493   \n",
       "std        0.435276      0.376218      0.066940      0.492602      0.270513   \n",
       "min        0.000000      0.000000      0.000000      0.000000      0.000000   \n",
       "25%        1.000000      0.000000      0.000000      0.000000      0.000000   \n",
       "50%        1.000000      0.000000      0.000000      0.000000      0.000000   \n",
       "75%        1.000000      0.000000      0.000000      1.000000      0.000000   \n",
       "max        2.000000      1.000000      1.000000      1.000000      1.000000   \n",
       "\n",
       "       medical_products  search_and_rescue      security      military  \\\n",
       "count      26216.000000       26216.000000  26216.000000  26216.000000   \n",
       "mean           0.050084           0.027617      0.017966      0.032804   \n",
       "std            0.218122           0.163875      0.132831      0.178128   \n",
       "min            0.000000           0.000000      0.000000      0.000000   \n",
       "25%            0.000000           0.000000      0.000000      0.000000   \n",
       "50%            0.000000           0.000000      0.000000      0.000000   \n",
       "75%            0.000000           0.000000      0.000000      0.000000   \n",
       "max            1.000000           1.000000      1.000000      1.000000   \n",
       "\n",
       "       child_alone  ...   aid_centers  other_infrastructure  weather_related  \\\n",
       "count      26216.0  ...  26216.000000          26216.000000     26216.000000   \n",
       "mean           0.0  ...      0.011787              0.043904         0.278341   \n",
       "std            0.0  ...      0.107927              0.204887         0.448191   \n",
       "min            0.0  ...      0.000000              0.000000         0.000000   \n",
       "25%            0.0  ...      0.000000              0.000000         0.000000   \n",
       "50%            0.0  ...      0.000000              0.000000         0.000000   \n",
       "75%            0.0  ...      0.000000              0.000000         1.000000   \n",
       "max            0.0  ...      1.000000              1.000000         1.000000   \n",
       "\n",
       "             floods         storm          fire    earthquake          cold  \\\n",
       "count  26216.000000  26216.000000  26216.000000  26216.000000  26216.000000   \n",
       "mean       0.082202      0.093187      0.010757      0.093645      0.020217   \n",
       "std        0.274677      0.290700      0.103158      0.291340      0.140743   \n",
       "min        0.000000      0.000000      0.000000      0.000000      0.000000   \n",
       "25%        0.000000      0.000000      0.000000      0.000000      0.000000   \n",
       "50%        0.000000      0.000000      0.000000      0.000000      0.000000   \n",
       "75%        0.000000      0.000000      0.000000      0.000000      0.000000   \n",
       "max        1.000000      1.000000      1.000000      1.000000      1.000000   \n",
       "\n",
       "       other_weather  direct_report  \n",
       "count   26216.000000   26216.000000  \n",
       "mean        0.052487       0.193584  \n",
       "std         0.223011       0.395114  \n",
       "min         0.000000       0.000000  \n",
       "25%         0.000000       0.000000  \n",
       "50%         0.000000       0.000000  \n",
       "75%         0.000000       0.000000  \n",
       "max         1.000000       1.000000  \n",
       "\n",
       "[8 rows x 36 columns]"
      ]
     },
     "execution_count": 6,
     "metadata": {},
     "output_type": "execute_result"
    }
   ],
   "source": [
    "Y.describe()"
   ]
  },
  {
   "cell_type": "code",
   "execution_count": 7,
   "metadata": {},
   "outputs": [
    {
     "data": {
      "text/html": [
       "<div>\n",
       "<style scoped>\n",
       "    .dataframe tbody tr th:only-of-type {\n",
       "        vertical-align: middle;\n",
       "    }\n",
       "\n",
       "    .dataframe tbody tr th {\n",
       "        vertical-align: top;\n",
       "    }\n",
       "\n",
       "    .dataframe thead th {\n",
       "        text-align: right;\n",
       "    }\n",
       "</style>\n",
       "<table border=\"1\" class=\"dataframe\">\n",
       "  <thead>\n",
       "    <tr style=\"text-align: right;\">\n",
       "      <th></th>\n",
       "      <th>related</th>\n",
       "      <th>request</th>\n",
       "      <th>offer</th>\n",
       "      <th>aid_related</th>\n",
       "      <th>medical_help</th>\n",
       "      <th>medical_products</th>\n",
       "      <th>search_and_rescue</th>\n",
       "      <th>security</th>\n",
       "      <th>military</th>\n",
       "      <th>child_alone</th>\n",
       "      <th>...</th>\n",
       "      <th>aid_centers</th>\n",
       "      <th>other_infrastructure</th>\n",
       "      <th>weather_related</th>\n",
       "      <th>floods</th>\n",
       "      <th>storm</th>\n",
       "      <th>fire</th>\n",
       "      <th>earthquake</th>\n",
       "      <th>cold</th>\n",
       "      <th>other_weather</th>\n",
       "      <th>direct_report</th>\n",
       "    </tr>\n",
       "  </thead>\n",
       "  <tbody>\n",
       "    <tr>\n",
       "      <th>117</th>\n",
       "      <td>2</td>\n",
       "      <td>0</td>\n",
       "      <td>0</td>\n",
       "      <td>0</td>\n",
       "      <td>0</td>\n",
       "      <td>0</td>\n",
       "      <td>0</td>\n",
       "      <td>0</td>\n",
       "      <td>0</td>\n",
       "      <td>0</td>\n",
       "      <td>...</td>\n",
       "      <td>0</td>\n",
       "      <td>0</td>\n",
       "      <td>0</td>\n",
       "      <td>0</td>\n",
       "      <td>0</td>\n",
       "      <td>0</td>\n",
       "      <td>0</td>\n",
       "      <td>0</td>\n",
       "      <td>0</td>\n",
       "      <td>0</td>\n",
       "    </tr>\n",
       "    <tr>\n",
       "      <th>219</th>\n",
       "      <td>2</td>\n",
       "      <td>0</td>\n",
       "      <td>0</td>\n",
       "      <td>0</td>\n",
       "      <td>0</td>\n",
       "      <td>0</td>\n",
       "      <td>0</td>\n",
       "      <td>0</td>\n",
       "      <td>0</td>\n",
       "      <td>0</td>\n",
       "      <td>...</td>\n",
       "      <td>0</td>\n",
       "      <td>0</td>\n",
       "      <td>0</td>\n",
       "      <td>0</td>\n",
       "      <td>0</td>\n",
       "      <td>0</td>\n",
       "      <td>0</td>\n",
       "      <td>0</td>\n",
       "      <td>0</td>\n",
       "      <td>0</td>\n",
       "    </tr>\n",
       "    <tr>\n",
       "      <th>305</th>\n",
       "      <td>2</td>\n",
       "      <td>0</td>\n",
       "      <td>0</td>\n",
       "      <td>0</td>\n",
       "      <td>0</td>\n",
       "      <td>0</td>\n",
       "      <td>0</td>\n",
       "      <td>0</td>\n",
       "      <td>0</td>\n",
       "      <td>0</td>\n",
       "      <td>...</td>\n",
       "      <td>0</td>\n",
       "      <td>0</td>\n",
       "      <td>0</td>\n",
       "      <td>0</td>\n",
       "      <td>0</td>\n",
       "      <td>0</td>\n",
       "      <td>0</td>\n",
       "      <td>0</td>\n",
       "      <td>0</td>\n",
       "      <td>0</td>\n",
       "    </tr>\n",
       "    <tr>\n",
       "      <th>460</th>\n",
       "      <td>2</td>\n",
       "      <td>0</td>\n",
       "      <td>0</td>\n",
       "      <td>0</td>\n",
       "      <td>0</td>\n",
       "      <td>0</td>\n",
       "      <td>0</td>\n",
       "      <td>0</td>\n",
       "      <td>0</td>\n",
       "      <td>0</td>\n",
       "      <td>...</td>\n",
       "      <td>0</td>\n",
       "      <td>0</td>\n",
       "      <td>0</td>\n",
       "      <td>0</td>\n",
       "      <td>0</td>\n",
       "      <td>0</td>\n",
       "      <td>0</td>\n",
       "      <td>0</td>\n",
       "      <td>0</td>\n",
       "      <td>0</td>\n",
       "    </tr>\n",
       "    <tr>\n",
       "      <th>576</th>\n",
       "      <td>2</td>\n",
       "      <td>0</td>\n",
       "      <td>0</td>\n",
       "      <td>0</td>\n",
       "      <td>0</td>\n",
       "      <td>0</td>\n",
       "      <td>0</td>\n",
       "      <td>0</td>\n",
       "      <td>0</td>\n",
       "      <td>0</td>\n",
       "      <td>...</td>\n",
       "      <td>0</td>\n",
       "      <td>0</td>\n",
       "      <td>0</td>\n",
       "      <td>0</td>\n",
       "      <td>0</td>\n",
       "      <td>0</td>\n",
       "      <td>0</td>\n",
       "      <td>0</td>\n",
       "      <td>0</td>\n",
       "      <td>0</td>\n",
       "    </tr>\n",
       "    <tr>\n",
       "      <th>...</th>\n",
       "      <td>...</td>\n",
       "      <td>...</td>\n",
       "      <td>...</td>\n",
       "      <td>...</td>\n",
       "      <td>...</td>\n",
       "      <td>...</td>\n",
       "      <td>...</td>\n",
       "      <td>...</td>\n",
       "      <td>...</td>\n",
       "      <td>...</td>\n",
       "      <td>...</td>\n",
       "      <td>...</td>\n",
       "      <td>...</td>\n",
       "      <td>...</td>\n",
       "      <td>...</td>\n",
       "      <td>...</td>\n",
       "      <td>...</td>\n",
       "      <td>...</td>\n",
       "      <td>...</td>\n",
       "      <td>...</td>\n",
       "      <td>...</td>\n",
       "    </tr>\n",
       "    <tr>\n",
       "      <th>20324</th>\n",
       "      <td>2</td>\n",
       "      <td>0</td>\n",
       "      <td>0</td>\n",
       "      <td>0</td>\n",
       "      <td>0</td>\n",
       "      <td>0</td>\n",
       "      <td>0</td>\n",
       "      <td>0</td>\n",
       "      <td>0</td>\n",
       "      <td>0</td>\n",
       "      <td>...</td>\n",
       "      <td>0</td>\n",
       "      <td>0</td>\n",
       "      <td>0</td>\n",
       "      <td>0</td>\n",
       "      <td>0</td>\n",
       "      <td>0</td>\n",
       "      <td>0</td>\n",
       "      <td>0</td>\n",
       "      <td>0</td>\n",
       "      <td>0</td>\n",
       "    </tr>\n",
       "    <tr>\n",
       "      <th>20495</th>\n",
       "      <td>2</td>\n",
       "      <td>0</td>\n",
       "      <td>0</td>\n",
       "      <td>0</td>\n",
       "      <td>0</td>\n",
       "      <td>0</td>\n",
       "      <td>0</td>\n",
       "      <td>0</td>\n",
       "      <td>0</td>\n",
       "      <td>0</td>\n",
       "      <td>...</td>\n",
       "      <td>0</td>\n",
       "      <td>0</td>\n",
       "      <td>0</td>\n",
       "      <td>0</td>\n",
       "      <td>0</td>\n",
       "      <td>0</td>\n",
       "      <td>0</td>\n",
       "      <td>0</td>\n",
       "      <td>0</td>\n",
       "      <td>0</td>\n",
       "    </tr>\n",
       "    <tr>\n",
       "      <th>22326</th>\n",
       "      <td>2</td>\n",
       "      <td>0</td>\n",
       "      <td>0</td>\n",
       "      <td>0</td>\n",
       "      <td>0</td>\n",
       "      <td>0</td>\n",
       "      <td>0</td>\n",
       "      <td>0</td>\n",
       "      <td>0</td>\n",
       "      <td>0</td>\n",
       "      <td>...</td>\n",
       "      <td>0</td>\n",
       "      <td>0</td>\n",
       "      <td>0</td>\n",
       "      <td>0</td>\n",
       "      <td>0</td>\n",
       "      <td>0</td>\n",
       "      <td>0</td>\n",
       "      <td>0</td>\n",
       "      <td>0</td>\n",
       "      <td>0</td>\n",
       "    </tr>\n",
       "    <tr>\n",
       "      <th>23382</th>\n",
       "      <td>2</td>\n",
       "      <td>0</td>\n",
       "      <td>0</td>\n",
       "      <td>0</td>\n",
       "      <td>0</td>\n",
       "      <td>0</td>\n",
       "      <td>0</td>\n",
       "      <td>0</td>\n",
       "      <td>0</td>\n",
       "      <td>0</td>\n",
       "      <td>...</td>\n",
       "      <td>0</td>\n",
       "      <td>0</td>\n",
       "      <td>0</td>\n",
       "      <td>0</td>\n",
       "      <td>0</td>\n",
       "      <td>0</td>\n",
       "      <td>0</td>\n",
       "      <td>0</td>\n",
       "      <td>0</td>\n",
       "      <td>0</td>\n",
       "    </tr>\n",
       "    <tr>\n",
       "      <th>25215</th>\n",
       "      <td>2</td>\n",
       "      <td>0</td>\n",
       "      <td>0</td>\n",
       "      <td>0</td>\n",
       "      <td>0</td>\n",
       "      <td>0</td>\n",
       "      <td>0</td>\n",
       "      <td>0</td>\n",
       "      <td>0</td>\n",
       "      <td>0</td>\n",
       "      <td>...</td>\n",
       "      <td>0</td>\n",
       "      <td>0</td>\n",
       "      <td>0</td>\n",
       "      <td>0</td>\n",
       "      <td>0</td>\n",
       "      <td>0</td>\n",
       "      <td>0</td>\n",
       "      <td>0</td>\n",
       "      <td>0</td>\n",
       "      <td>0</td>\n",
       "    </tr>\n",
       "  </tbody>\n",
       "</table>\n",
       "<p>188 rows × 36 columns</p>\n",
       "</div>"
      ],
      "text/plain": [
       "       related  request  offer  aid_related  medical_help  medical_products  \\\n",
       "117          2        0      0            0             0                 0   \n",
       "219          2        0      0            0             0                 0   \n",
       "305          2        0      0            0             0                 0   \n",
       "460          2        0      0            0             0                 0   \n",
       "576          2        0      0            0             0                 0   \n",
       "...        ...      ...    ...          ...           ...               ...   \n",
       "20324        2        0      0            0             0                 0   \n",
       "20495        2        0      0            0             0                 0   \n",
       "22326        2        0      0            0             0                 0   \n",
       "23382        2        0      0            0             0                 0   \n",
       "25215        2        0      0            0             0                 0   \n",
       "\n",
       "       search_and_rescue  security  military  child_alone  ...  aid_centers  \\\n",
       "117                    0         0         0            0  ...            0   \n",
       "219                    0         0         0            0  ...            0   \n",
       "305                    0         0         0            0  ...            0   \n",
       "460                    0         0         0            0  ...            0   \n",
       "576                    0         0         0            0  ...            0   \n",
       "...                  ...       ...       ...          ...  ...          ...   \n",
       "20324                  0         0         0            0  ...            0   \n",
       "20495                  0         0         0            0  ...            0   \n",
       "22326                  0         0         0            0  ...            0   \n",
       "23382                  0         0         0            0  ...            0   \n",
       "25215                  0         0         0            0  ...            0   \n",
       "\n",
       "       other_infrastructure  weather_related  floods  storm  fire  earthquake  \\\n",
       "117                       0                0       0      0     0           0   \n",
       "219                       0                0       0      0     0           0   \n",
       "305                       0                0       0      0     0           0   \n",
       "460                       0                0       0      0     0           0   \n",
       "576                       0                0       0      0     0           0   \n",
       "...                     ...              ...     ...    ...   ...         ...   \n",
       "20324                     0                0       0      0     0           0   \n",
       "20495                     0                0       0      0     0           0   \n",
       "22326                     0                0       0      0     0           0   \n",
       "23382                     0                0       0      0     0           0   \n",
       "25215                     0                0       0      0     0           0   \n",
       "\n",
       "       cold  other_weather  direct_report  \n",
       "117       0              0              0  \n",
       "219       0              0              0  \n",
       "305       0              0              0  \n",
       "460       0              0              0  \n",
       "576       0              0              0  \n",
       "...     ...            ...            ...  \n",
       "20324     0              0              0  \n",
       "20495     0              0              0  \n",
       "22326     0              0              0  \n",
       "23382     0              0              0  \n",
       "25215     0              0              0  \n",
       "\n",
       "[188 rows x 36 columns]"
      ]
     },
     "execution_count": 7,
     "metadata": {},
     "output_type": "execute_result"
    }
   ],
   "source": [
    "Y[Y.related==2]"
   ]
  },
  {
   "cell_type": "code",
   "execution_count": 8,
   "metadata": {},
   "outputs": [],
   "source": [
    "Y.replace({'related':{2:1}}, inplace=True)"
   ]
  },
  {
   "cell_type": "code",
   "execution_count": 9,
   "metadata": {},
   "outputs": [
    {
     "data": {
      "text/html": [
       "<div>\n",
       "<style scoped>\n",
       "    .dataframe tbody tr th:only-of-type {\n",
       "        vertical-align: middle;\n",
       "    }\n",
       "\n",
       "    .dataframe tbody tr th {\n",
       "        vertical-align: top;\n",
       "    }\n",
       "\n",
       "    .dataframe thead th {\n",
       "        text-align: right;\n",
       "    }\n",
       "</style>\n",
       "<table border=\"1\" class=\"dataframe\">\n",
       "  <thead>\n",
       "    <tr style=\"text-align: right;\">\n",
       "      <th></th>\n",
       "      <th>related</th>\n",
       "      <th>request</th>\n",
       "      <th>offer</th>\n",
       "      <th>aid_related</th>\n",
       "      <th>medical_help</th>\n",
       "      <th>medical_products</th>\n",
       "      <th>search_and_rescue</th>\n",
       "      <th>security</th>\n",
       "      <th>military</th>\n",
       "      <th>child_alone</th>\n",
       "      <th>...</th>\n",
       "      <th>aid_centers</th>\n",
       "      <th>other_infrastructure</th>\n",
       "      <th>weather_related</th>\n",
       "      <th>floods</th>\n",
       "      <th>storm</th>\n",
       "      <th>fire</th>\n",
       "      <th>earthquake</th>\n",
       "      <th>cold</th>\n",
       "      <th>other_weather</th>\n",
       "      <th>direct_report</th>\n",
       "    </tr>\n",
       "  </thead>\n",
       "  <tbody>\n",
       "  </tbody>\n",
       "</table>\n",
       "<p>0 rows × 36 columns</p>\n",
       "</div>"
      ],
      "text/plain": [
       "Empty DataFrame\n",
       "Columns: [related, request, offer, aid_related, medical_help, medical_products, search_and_rescue, security, military, child_alone, water, food, shelter, clothing, money, missing_people, refugees, death, other_aid, infrastructure_related, transport, buildings, electricity, tools, hospitals, shops, aid_centers, other_infrastructure, weather_related, floods, storm, fire, earthquake, cold, other_weather, direct_report]\n",
       "Index: []\n",
       "\n",
       "[0 rows x 36 columns]"
      ]
     },
     "execution_count": 9,
     "metadata": {},
     "output_type": "execute_result"
    }
   ],
   "source": [
    "Y[Y.related==2]"
   ]
  },
  {
   "cell_type": "code",
   "execution_count": 10,
   "metadata": {},
   "outputs": [],
   "source": [
    "Y.drop('child_alone', axis=1, inplace=True)"
   ]
  },
  {
   "cell_type": "markdown",
   "metadata": {},
   "source": [
    "### 2. Write a tokenization function to process your text data"
   ]
  },
  {
   "cell_type": "code",
   "execution_count": 35,
   "metadata": {},
   "outputs": [],
   "source": [
    "import nltk\n",
    "from nltk.corpus import stopwords\n",
    "from nltk.stem.porter import *"
   ]
  },
  {
   "cell_type": "code",
   "execution_count": 36,
   "metadata": {},
   "outputs": [
    {
     "data": {
      "text/plain": [
       "True"
      ]
     },
     "execution_count": 36,
     "metadata": {},
     "output_type": "execute_result"
    }
   ],
   "source": [
    "nltk.download(\"stopwords\", quiet=True)"
   ]
  },
  {
   "cell_type": "code",
   "execution_count": 13,
   "metadata": {},
   "outputs": [],
   "source": [
    "import matplotlib.pyplot as plt\n",
    "from wordcloud import WordCloud"
   ]
  },
  {
   "cell_type": "code",
   "execution_count": 15,
   "metadata": {},
   "outputs": [],
   "source": [
    "word_list = []\n",
    "for message in X:\n",
    "    for w in message.split():\n",
    "        if w not in stopwords.words(\"english\"):\n",
    "            word_list.append(w)        "
   ]
  },
  {
   "cell_type": "code",
   "execution_count": 16,
   "metadata": {},
   "outputs": [],
   "source": [
    "s = ' '.join(word_list)"
   ]
  },
  {
   "cell_type": "code",
   "execution_count": 17,
   "metadata": {},
   "outputs": [],
   "source": [
    "wordcloud = WordCloud().generate(s)"
   ]
  },
  {
   "cell_type": "code",
   "execution_count": 18,
   "metadata": {},
   "outputs": [
    {
     "data": {
      "text/plain": [
       "<matplotlib.image.AxesImage at 0x7fc4aa42cef0>"
      ]
     },
     "execution_count": 18,
     "metadata": {},
     "output_type": "execute_result"
    },
    {
     "data": {
      "image/png": "[encoded data removed]",
      "text/plain": [
       "<matplotlib.figure.Figure at 0x7fc4aa4798d0>"
      ]
     },
     "metadata": {
      "needs_background": "light"
     },
     "output_type": "display_data"
    }
   ],
   "source": [
    "plt.figure(figsize=(15,8))\n",
    "plt.imshow(wordcloud)"
   ]
  },
  {
   "cell_type": "code",
   "execution_count": 37,
   "metadata": {},
   "outputs": [],
   "source": [
    "def tokenize(text):\n",
    "    stemmer = PorterStemmer()\n",
    "    text = re.sub(r\"http\\S+\", \"\", text) #remove URLs taken from https://gist.github.com/MrEliptik/b3f16179aa2f530781ef8ca9a16499af\n",
    "    text = re.sub(r\"[^a-zA-Z0-9]\", \" \", text.lower()) # Convert to lower case\n",
    "    words = text.split() # Split string into words\n",
    "    words = [w for w in words if w not in stopwords.words(\"english\")] # Remove stopwords\n",
    "    words = [PorterStemmer().stem(w) for w in words] # stem\n",
    "    return words"
   ]
  },
  {
   "cell_type": "code",
   "execution_count": 38,
   "metadata": {},
   "outputs": [
    {
     "name": "stdout",
     "output_type": "stream",
     "text": [
      "[nltk_data] Downloading package punkt to /root/nltk_data...\n",
      "[nltk_data]   Package punkt is already up-to-date!\n"
     ]
    },
    {
     "data": {
      "text/plain": [
       "True"
      ]
     },
     "execution_count": 38,
     "metadata": {},
     "output_type": "execute_result"
    }
   ],
   "source": [
    "nltk.download('punkt')"
   ]
  },
  {
   "cell_type": "markdown",
   "metadata": {},
   "source": [
    "### 3. Build a machine learning pipeline\n",
    "This machine pipeline should take in the `message` column as input and output classification results on the other 36 categories in the dataset. You may find the [MultiOutputClassifier](http://scikit-learn.org/stable/modules/generated/sklearn.multioutput.MultiOutputClassifier.html) helpful for predicting multiple target variables."
   ]
  },
  {
   "cell_type": "code",
   "execution_count": 39,
   "metadata": {},
   "outputs": [],
   "source": [
    "from sklearn.multioutput import MultiOutputClassifier\n",
    "from sklearn.linear_model import LogisticRegression"
   ]
  },
  {
   "cell_type": "code",
   "execution_count": 40,
   "metadata": {},
   "outputs": [],
   "source": [
    "from sklearn.feature_extraction.text import CountVectorizer, TfidfTransformer, TfidfVectorizer"
   ]
  },
  {
   "cell_type": "code",
   "execution_count": 41,
   "metadata": {},
   "outputs": [],
   "source": [
    "from sklearn.pipeline import make_pipeline"
   ]
  },
  {
   "cell_type": "code",
   "execution_count": 24,
   "metadata": {},
   "outputs": [],
   "source": [
    "pipeline_lg = make_pipeline(TfidfVectorizer(tokenizer=tokenize), MultiOutputClassifier(LogisticRegression(random_state=123)))"
   ]
  },
  {
   "cell_type": "markdown",
   "metadata": {},
   "source": [
    "### 4. Train pipeline\n",
    "- Split data into train and test sets\n",
    "- Train pipeline"
   ]
  },
  {
   "cell_type": "code",
   "execution_count": 42,
   "metadata": {},
   "outputs": [],
   "source": [
    "from sklearn.model_selection import train_test_split"
   ]
  },
  {
   "cell_type": "code",
   "execution_count": 43,
   "metadata": {},
   "outputs": [],
   "source": [
    "x_train, x_test, y_train, y_test = train_test_split(X,Y,test_size=0.2,random_state=123)"
   ]
  },
  {
   "cell_type": "code",
   "execution_count": 30,
   "metadata": {},
   "outputs": [
    {
     "data": {
      "text/plain": [
       "Pipeline(memory=None,\n",
       "     steps=[('tfidfvectorizer', TfidfVectorizer(analyzer='word', binary=False, decode_error='strict',\n",
       "        dtype=<class 'numpy.int64'>, encoding='utf-8', input='content',\n",
       "        lowercase=True, max_df=1.0, max_features=None, min_df=1,\n",
       "        ngram_range=(1, 1), norm='l2', preprocessor=None, smooth_i...=123, solver='liblinear', tol=0.0001,\n",
       "          verbose=0, warm_start=False),\n",
       "           n_jobs=1))])"
      ]
     },
     "execution_count": 30,
     "metadata": {},
     "output_type": "execute_result"
    }
   ],
   "source": [
    "pipeline_lg.fit(x_train, y_train)"
   ]
  },
  {
   "cell_type": "markdown",
   "metadata": {},
   "source": [
    "### 5. Test your model\n",
    "Report the f1 score, precision and recall for each output category of the dataset. You can do this by iterating through the columns and calling sklearn's `classification_report` on each."
   ]
  },
  {
   "cell_type": "code",
   "execution_count": 44,
   "metadata": {},
   "outputs": [],
   "source": [
    "from sklearn.metrics import classification_report"
   ]
  },
  {
   "cell_type": "code",
   "execution_count": 32,
   "metadata": {},
   "outputs": [],
   "source": [
    "y_predict_lg = pipeline_lg.predict(x_test)"
   ]
  },
  {
   "cell_type": "code",
   "execution_count": 29,
   "metadata": {},
   "outputs": [
    {
     "name": "stderr",
     "output_type": "stream",
     "text": [
      "/opt/conda/lib/python3.6/site-packages/sklearn/metrics/classification.py:1135: UndefinedMetricWarning: Precision and F-score are ill-defined and being set to 0.0 in labels with no predicted samples.\n",
      "  'precision', 'predicted', average, warn_for)\n"
     ]
    }
   ],
   "source": [
    "lg_report = classification_report(y_test.values,y_predict_lg, target_names=Y.columns)"
   ]
  },
  {
   "cell_type": "code",
   "execution_count": 91,
   "metadata": {},
   "outputs": [
    {
     "name": "stdout",
     "output_type": "stream",
     "text": [
      "                        precision    recall  f1-score   support\n",
      "\n",
      "               related       0.84      0.95      0.89      4024\n",
      "               request       0.84      0.56      0.67       889\n",
      "                 offer       0.00      0.00      0.00        22\n",
      "           aid_related       0.78      0.66      0.72      2187\n",
      "          medical_help       0.70      0.19      0.30       417\n",
      "      medical_products       0.74      0.20      0.32       260\n",
      "     search_and_rescue       0.88      0.10      0.19       135\n",
      "              security       0.00      0.00      0.00        97\n",
      "              military       0.74      0.13      0.21       183\n",
      "                 water       0.81      0.49      0.61       339\n",
      "                  food       0.87      0.59      0.70       580\n",
      "               shelter       0.82      0.46      0.59       460\n",
      "              clothing       0.78      0.31      0.45        80\n",
      "                 money       0.58      0.13      0.21       108\n",
      "        missing_people       0.00      0.00      0.00        61\n",
      "              refugees       0.73      0.09      0.16       179\n",
      "                 death       0.80      0.29      0.43       239\n",
      "             other_aid       0.61      0.13      0.21       672\n",
      "infrastructure_related       0.52      0.04      0.08       328\n",
      "             transport       0.76      0.13      0.22       251\n",
      "             buildings       0.82      0.28      0.42       253\n",
      "           electricity       0.80      0.12      0.21       100\n",
      "                 tools       0.00      0.00      0.00        30\n",
      "             hospitals       1.00      0.02      0.03        60\n",
      "                 shops       0.00      0.00      0.00        26\n",
      "           aid_centers       0.00      0.00      0.00        71\n",
      "  other_infrastructure       0.33      0.01      0.03       219\n",
      "       weather_related       0.86      0.66      0.74      1439\n",
      "                floods       0.91      0.47      0.62       432\n",
      "                 storm       0.79      0.49      0.60       485\n",
      "                  fire       0.75      0.06      0.11        50\n",
      "            earthquake       0.89      0.62      0.73       475\n",
      "                  cold       0.83      0.09      0.17       109\n",
      "         other_weather       0.64      0.03      0.05       275\n",
      "         direct_report       0.77      0.43      0.55      1021\n",
      "\n",
      "           avg / total       0.78      0.55      0.61     16556\n",
      "\n"
     ]
    }
   ],
   "source": [
    "print(lg_report)"
   ]
  },
  {
   "cell_type": "markdown",
   "metadata": {},
   "source": [
    "### 6. Improve your model\n",
    "Use grid search to find better parameters. "
   ]
  },
  {
   "cell_type": "code",
   "execution_count": 45,
   "metadata": {},
   "outputs": [],
   "source": [
    "from sklearn.model_selection import GridSearchCV"
   ]
  },
  {
   "cell_type": "code",
   "execution_count": 46,
   "metadata": {},
   "outputs": [],
   "source": [
    "import numpy as np"
   ]
  },
  {
   "cell_type": "code",
   "execution_count": 35,
   "metadata": {},
   "outputs": [],
   "source": [
    "parameters = {\n",
    "              'multioutputclassifier__estimator__penalty' : ['l1', 'l2'],\n",
    "              'multioutputclassifier__estimator__C' : np.logspace(-3, 3, 6),\n",
    "              'multioutputclassifier__estimator__solver' : ['liblinear']\n",
    "             }\n",
    "\n",
    "cv = GridSearchCV(pipeline_lg, param_grid=parameters, cv=5, verbose=4, n_jobs=-1)"
   ]
  },
  {
   "cell_type": "code",
   "execution_count": 36,
   "metadata": {
    "scrolled": true
   },
   "outputs": [
    {
     "name": "stdout",
     "output_type": "stream",
     "text": [
      "Fitting 5 folds for each of 12 candidates, totalling 60 fits\n",
      "[CV] multioutputclassifier__estimator__C=0.001, multioutputclassifier__estimator__penalty=l1, multioutputclassifier__estimator__solver=liblinear \n",
      "[CV]  multioutputclassifier__estimator__C=0.001, multioutputclassifier__estimator__penalty=l1, multioutputclassifier__estimator__solver=liblinear, score=0.2066746126340882, total= 1.6min\n",
      "[CV] multioutputclassifier__estimator__C=0.001, multioutputclassifier__estimator__penalty=l1, multioutputclassifier__estimator__solver=liblinear \n"
     ]
    },
    {
     "name": "stderr",
     "output_type": "stream",
     "text": [
      "[Parallel(n_jobs=-1)]: Done   1 out of   1 | elapsed:  2.9min remaining:    0.0s\n"
     ]
    },
    {
     "name": "stdout",
     "output_type": "stream",
     "text": [
      "[CV]  multioutputclassifier__estimator__C=0.001, multioutputclassifier__estimator__penalty=l1, multioutputclassifier__estimator__solver=liblinear, score=0.19427890345649582, total= 1.6min\n",
      "[CV] multioutputclassifier__estimator__C=0.001, multioutputclassifier__estimator__penalty=l1, multioutputclassifier__estimator__solver=liblinear \n"
     ]
    },
    {
     "name": "stderr",
     "output_type": "stream",
     "text": [
      "[Parallel(n_jobs=-1)]: Done   2 out of   2 | elapsed:  5.7min remaining:    0.0s\n"
     ]
    },
    {
     "name": "stdout",
     "output_type": "stream",
     "text": [
      "[CV]  multioutputclassifier__estimator__C=0.001, multioutputclassifier__estimator__penalty=l1, multioutputclassifier__estimator__solver=liblinear, score=0.20743919885550788, total= 1.6min\n",
      "[CV] multioutputclassifier__estimator__C=0.001, multioutputclassifier__estimator__penalty=l1, multioutputclassifier__estimator__solver=liblinear \n"
     ]
    },
    {
     "name": "stderr",
     "output_type": "stream",
     "text": [
      "[Parallel(n_jobs=-1)]: Done   3 out of   3 | elapsed:  8.5min remaining:    0.0s\n"
     ]
    },
    {
     "name": "stdout",
     "output_type": "stream",
     "text": [
      "[CV]  multioutputclassifier__estimator__C=0.001, multioutputclassifier__estimator__penalty=l1, multioutputclassifier__estimator__solver=liblinear, score=0.20934668574153553, total= 1.5min\n",
      "[CV] multioutputclassifier__estimator__C=0.001, multioutputclassifier__estimator__penalty=l1, multioutputclassifier__estimator__solver=liblinear \n",
      "[CV]  multioutputclassifier__estimator__C=0.001, multioutputclassifier__estimator__penalty=l1, multioutputclassifier__estimator__solver=liblinear, score=0.2033857892226991, total= 1.5min\n",
      "[CV] multioutputclassifier__estimator__C=0.001, multioutputclassifier__estimator__penalty=l2, multioutputclassifier__estimator__solver=liblinear \n",
      "[CV]  multioutputclassifier__estimator__C=0.001, multioutputclassifier__estimator__penalty=l2, multioutputclassifier__estimator__solver=liblinear, score=0.2066746126340882, total= 1.6min\n",
      "[CV] multioutputclassifier__estimator__C=0.001, multioutputclassifier__estimator__penalty=l2, multioutputclassifier__estimator__solver=liblinear \n",
      "[CV]  multioutputclassifier__estimator__C=0.001, multioutputclassifier__estimator__penalty=l2, multioutputclassifier__estimator__solver=liblinear, score=0.19427890345649582, total= 1.6min\n",
      "[CV] multioutputclassifier__estimator__C=0.001, multioutputclassifier__estimator__penalty=l2, multioutputclassifier__estimator__solver=liblinear \n",
      "[CV]  multioutputclassifier__estimator__C=0.001, multioutputclassifier__estimator__penalty=l2, multioutputclassifier__estimator__solver=liblinear, score=0.20743919885550788, total= 1.5min\n",
      "[CV] multioutputclassifier__estimator__C=0.001, multioutputclassifier__estimator__penalty=l2, multioutputclassifier__estimator__solver=liblinear \n",
      "[CV]  multioutputclassifier__estimator__C=0.001, multioutputclassifier__estimator__penalty=l2, multioutputclassifier__estimator__solver=liblinear, score=0.20934668574153553, total= 1.5min\n",
      "[CV] multioutputclassifier__estimator__C=0.001, multioutputclassifier__estimator__penalty=l2, multioutputclassifier__estimator__solver=liblinear \n",
      "[CV]  multioutputclassifier__estimator__C=0.001, multioutputclassifier__estimator__penalty=l2, multioutputclassifier__estimator__solver=liblinear, score=0.2033857892226991, total= 1.5min\n",
      "[CV] multioutputclassifier__estimator__C=0.0158489319246, multioutputclassifier__estimator__penalty=l1, multioutputclassifier__estimator__solver=liblinear \n",
      "[CV]  multioutputclassifier__estimator__C=0.0158489319246, multioutputclassifier__estimator__penalty=l1, multioutputclassifier__estimator__solver=liblinear, score=0.20715137067938022, total= 1.5min\n",
      "[CV] multioutputclassifier__estimator__C=0.0158489319246, multioutputclassifier__estimator__penalty=l1, multioutputclassifier__estimator__solver=liblinear \n",
      "[CV]  multioutputclassifier__estimator__C=0.0158489319246, multioutputclassifier__estimator__penalty=l1, multioutputclassifier__estimator__solver=liblinear, score=0.19642431466030988, total= 1.6min\n",
      "[CV] multioutputclassifier__estimator__C=0.0158489319246, multioutputclassifier__estimator__penalty=l1, multioutputclassifier__estimator__solver=liblinear \n",
      "[CV]  multioutputclassifier__estimator__C=0.0158489319246, multioutputclassifier__estimator__penalty=l1, multioutputclassifier__estimator__solver=liblinear, score=0.20386266094420602, total= 1.5min\n",
      "[CV] multioutputclassifier__estimator__C=0.0158489319246, multioutputclassifier__estimator__penalty=l1, multioutputclassifier__estimator__solver=liblinear \n",
      "[CV]  multioutputclassifier__estimator__C=0.0158489319246, multioutputclassifier__estimator__penalty=l1, multioutputclassifier__estimator__solver=liblinear, score=0.20958512160228898, total= 1.5min\n",
      "[CV] multioutputclassifier__estimator__C=0.0158489319246, multioutputclassifier__estimator__penalty=l1, multioutputclassifier__estimator__solver=liblinear \n",
      "[CV]  multioutputclassifier__estimator__C=0.0158489319246, multioutputclassifier__estimator__penalty=l1, multioutputclassifier__estimator__solver=liblinear, score=0.20362422508345254, total= 1.5min\n",
      "[CV] multioutputclassifier__estimator__C=0.0158489319246, multioutputclassifier__estimator__penalty=l2, multioutputclassifier__estimator__solver=liblinear \n",
      "[CV]  multioutputclassifier__estimator__C=0.0158489319246, multioutputclassifier__estimator__penalty=l2, multioutputclassifier__estimator__solver=liblinear, score=0.20047675804529203, total= 1.5min\n",
      "[CV] multioutputclassifier__estimator__C=0.0158489319246, multioutputclassifier__estimator__penalty=l2, multioutputclassifier__estimator__solver=liblinear \n",
      "[CV]  multioutputclassifier__estimator__C=0.0158489319246, multioutputclassifier__estimator__penalty=l2, multioutputclassifier__estimator__solver=liblinear, score=0.18855780691299165, total= 1.5min\n",
      "[CV] multioutputclassifier__estimator__C=0.0158489319246, multioutputclassifier__estimator__penalty=l2, multioutputclassifier__estimator__solver=liblinear \n",
      "[CV]  multioutputclassifier__estimator__C=0.0158489319246, multioutputclassifier__estimator__penalty=l2, multioutputclassifier__estimator__solver=liblinear, score=0.20004768717215068, total= 1.5min\n",
      "[CV] multioutputclassifier__estimator__C=0.0158489319246, multioutputclassifier__estimator__penalty=l2, multioutputclassifier__estimator__solver=liblinear \n",
      "[CV]  multioutputclassifier__estimator__C=0.0158489319246, multioutputclassifier__estimator__penalty=l2, multioutputclassifier__estimator__solver=liblinear, score=0.20219360991893182, total= 1.5min\n",
      "[CV] multioutputclassifier__estimator__C=0.0158489319246, multioutputclassifier__estimator__penalty=l2, multioutputclassifier__estimator__solver=liblinear \n",
      "[CV]  multioutputclassifier__estimator__C=0.0158489319246, multioutputclassifier__estimator__penalty=l2, multioutputclassifier__estimator__solver=liblinear, score=0.19575584167858845, total= 1.5min\n",
      "[CV] multioutputclassifier__estimator__C=0.251188643151, multioutputclassifier__estimator__penalty=l1, multioutputclassifier__estimator__solver=liblinear \n",
      "[CV]  multioutputclassifier__estimator__C=0.251188643151, multioutputclassifier__estimator__penalty=l1, multioutputclassifier__estimator__solver=liblinear, score=0.27818831942789035, total= 1.5min\n",
      "[CV] multioutputclassifier__estimator__C=0.251188643151, multioutputclassifier__estimator__penalty=l1, multioutputclassifier__estimator__solver=liblinear \n",
      "[CV]  multioutputclassifier__estimator__C=0.251188643151, multioutputclassifier__estimator__penalty=l1, multioutputclassifier__estimator__solver=liblinear, score=0.25053635280095354, total= 1.5min\n",
      "[CV] multioutputclassifier__estimator__C=0.251188643151, multioutputclassifier__estimator__penalty=l1, multioutputclassifier__estimator__solver=liblinear \n",
      "[CV]  multioutputclassifier__estimator__C=0.251188643151, multioutputclassifier__estimator__penalty=l1, multioutputclassifier__estimator__solver=liblinear, score=0.2587029089175012, total= 1.5min\n",
      "[CV] multioutputclassifier__estimator__C=0.251188643151, multioutputclassifier__estimator__penalty=l1, multioutputclassifier__estimator__solver=liblinear \n",
      "[CV]  multioutputclassifier__estimator__C=0.251188643151, multioutputclassifier__estimator__penalty=l1, multioutputclassifier__estimator__solver=liblinear, score=0.26061039580352885, total= 1.5min\n",
      "[CV] multioutputclassifier__estimator__C=0.251188643151, multioutputclassifier__estimator__penalty=l1, multioutputclassifier__estimator__solver=liblinear \n",
      "[CV]  multioutputclassifier__estimator__C=0.251188643151, multioutputclassifier__estimator__penalty=l1, multioutputclassifier__estimator__solver=liblinear, score=0.2558416785884597, total= 1.5min\n",
      "[CV] multioutputclassifier__estimator__C=0.251188643151, multioutputclassifier__estimator__penalty=l2, multioutputclassifier__estimator__solver=liblinear \n",
      "[CV]  multioutputclassifier__estimator__C=0.251188643151, multioutputclassifier__estimator__penalty=l2, multioutputclassifier__estimator__solver=liblinear, score=0.25458879618593566, total= 1.5min\n",
      "[CV] multioutputclassifier__estimator__C=0.251188643151, multioutputclassifier__estimator__penalty=l2, multioutputclassifier__estimator__solver=liblinear \n",
      "[CV]  multioutputclassifier__estimator__C=0.251188643151, multioutputclassifier__estimator__penalty=l2, multioutputclassifier__estimator__solver=liblinear, score=0.23432657926102504, total= 1.5min\n",
      "[CV] multioutputclassifier__estimator__C=0.251188643151, multioutputclassifier__estimator__penalty=l2, multioutputclassifier__estimator__solver=liblinear \n",
      "[CV]  multioutputclassifier__estimator__C=0.251188643151, multioutputclassifier__estimator__penalty=l2, multioutputclassifier__estimator__solver=liblinear, score=0.24225083452551263, total= 1.5min\n",
      "[CV] multioutputclassifier__estimator__C=0.251188643151, multioutputclassifier__estimator__penalty=l2, multioutputclassifier__estimator__solver=liblinear \n",
      "[CV]  multioutputclassifier__estimator__C=0.251188643151, multioutputclassifier__estimator__penalty=l2, multioutputclassifier__estimator__solver=liblinear, score=0.24725798760133524, total= 1.5min\n",
      "[CV] multioutputclassifier__estimator__C=0.251188643151, multioutputclassifier__estimator__penalty=l2, multioutputclassifier__estimator__solver=liblinear \n",
      "[CV]  multioutputclassifier__estimator__C=0.251188643151, multioutputclassifier__estimator__penalty=l2, multioutputclassifier__estimator__solver=liblinear, score=0.242966142107773, total= 1.5min\n",
      "[CV] multioutputclassifier__estimator__C=3.98107170553, multioutputclassifier__estimator__penalty=l1, multioutputclassifier__estimator__solver=liblinear \n",
      "[CV]  multioutputclassifier__estimator__C=3.98107170553, multioutputclassifier__estimator__penalty=l1, multioutputclassifier__estimator__solver=liblinear, score=0.2893921334922527, total= 1.5min\n",
      "[CV] multioutputclassifier__estimator__C=3.98107170553, multioutputclassifier__estimator__penalty=l1, multioutputclassifier__estimator__solver=liblinear \n",
      "[CV]  multioutputclassifier__estimator__C=3.98107170553, multioutputclassifier__estimator__penalty=l1, multioutputclassifier__estimator__solver=liblinear, score=0.266984505363528, total= 1.5min\n",
      "[CV] multioutputclassifier__estimator__C=3.98107170553, multioutputclassifier__estimator__penalty=l1, multioutputclassifier__estimator__solver=liblinear \n",
      "[CV]  multioutputclassifier__estimator__C=3.98107170553, multioutputclassifier__estimator__penalty=l1, multioutputclassifier__estimator__solver=liblinear, score=0.2825464949928469, total= 1.5min\n",
      "[CV] multioutputclassifier__estimator__C=3.98107170553, multioutputclassifier__estimator__penalty=l1, multioutputclassifier__estimator__solver=liblinear \n",
      "[CV]  multioutputclassifier__estimator__C=3.98107170553, multioutputclassifier__estimator__penalty=l1, multioutputclassifier__estimator__solver=liblinear, score=0.2854077253218884, total= 2.2min\n",
      "[CV] multioutputclassifier__estimator__C=3.98107170553, multioutputclassifier__estimator__penalty=l1, multioutputclassifier__estimator__solver=liblinear \n",
      "[CV]  multioutputclassifier__estimator__C=3.98107170553, multioutputclassifier__estimator__penalty=l1, multioutputclassifier__estimator__solver=liblinear, score=0.27896995708154504, total= 2.4min\n",
      "[CV] multioutputclassifier__estimator__C=3.98107170553, multioutputclassifier__estimator__penalty=l2, multioutputclassifier__estimator__solver=liblinear \n",
      "[CV]  multioutputclassifier__estimator__C=3.98107170553, multioutputclassifier__estimator__penalty=l2, multioutputclassifier__estimator__solver=liblinear, score=0.31227651966626935, total= 1.5min\n",
      "[CV] multioutputclassifier__estimator__C=3.98107170553, multioutputclassifier__estimator__penalty=l2, multioutputclassifier__estimator__solver=liblinear \n",
      "[CV]  multioutputclassifier__estimator__C=3.98107170553, multioutputclassifier__estimator__penalty=l2, multioutputclassifier__estimator__solver=liblinear, score=0.2867699642431466, total= 1.5min\n",
      "[CV] multioutputclassifier__estimator__C=3.98107170553, multioutputclassifier__estimator__penalty=l2, multioutputclassifier__estimator__solver=liblinear \n",
      "[CV]  multioutputclassifier__estimator__C=3.98107170553, multioutputclassifier__estimator__penalty=l2, multioutputclassifier__estimator__solver=liblinear, score=0.30209823557463045, total= 1.5min\n",
      "[CV] multioutputclassifier__estimator__C=3.98107170553, multioutputclassifier__estimator__penalty=l2, multioutputclassifier__estimator__solver=liblinear \n",
      "[CV]  multioutputclassifier__estimator__C=3.98107170553, multioutputclassifier__estimator__penalty=l2, multioutputclassifier__estimator__solver=liblinear, score=0.296137339055794, total= 1.6min\n",
      "[CV] multioutputclassifier__estimator__C=3.98107170553, multioutputclassifier__estimator__penalty=l2, multioutputclassifier__estimator__solver=liblinear \n",
      "[CV]  multioutputclassifier__estimator__C=3.98107170553, multioutputclassifier__estimator__penalty=l2, multioutputclassifier__estimator__solver=liblinear, score=0.2918454935622318, total= 1.5min\n",
      "[CV] multioutputclassifier__estimator__C=63.095734448, multioutputclassifier__estimator__penalty=l1, multioutputclassifier__estimator__solver=liblinear \n",
      "[CV]  multioutputclassifier__estimator__C=63.095734448, multioutputclassifier__estimator__penalty=l1, multioutputclassifier__estimator__solver=liblinear, score=0.18951132300357568, total= 2.9min\n",
      "[CV] multioutputclassifier__estimator__C=63.095734448, multioutputclassifier__estimator__penalty=l1, multioutputclassifier__estimator__solver=liblinear \n",
      "[CV]  multioutputclassifier__estimator__C=63.095734448, multioutputclassifier__estimator__penalty=l1, multioutputclassifier__estimator__solver=liblinear, score=0.16734207389749703, total= 2.6min\n",
      "[CV] multioutputclassifier__estimator__C=63.095734448, multioutputclassifier__estimator__penalty=l1, multioutputclassifier__estimator__solver=liblinear \n",
      "[CV]  multioutputclassifier__estimator__C=63.095734448, multioutputclassifier__estimator__penalty=l1, multioutputclassifier__estimator__solver=liblinear, score=0.18860276585598473, total= 2.4min\n",
      "[CV] multioutputclassifier__estimator__C=63.095734448, multioutputclassifier__estimator__penalty=l1, multioutputclassifier__estimator__solver=liblinear \n",
      "[CV]  multioutputclassifier__estimator__C=63.095734448, multioutputclassifier__estimator__penalty=l1, multioutputclassifier__estimator__solver=liblinear, score=0.1905102527420124, total= 3.5min\n",
      "[CV] multioutputclassifier__estimator__C=63.095734448, multioutputclassifier__estimator__penalty=l1, multioutputclassifier__estimator__solver=liblinear \n",
      "[CV]  multioutputclassifier__estimator__C=63.095734448, multioutputclassifier__estimator__penalty=l1, multioutputclassifier__estimator__solver=liblinear, score=0.19480209823557462, total= 2.2min\n",
      "[CV] multioutputclassifier__estimator__C=63.095734448, multioutputclassifier__estimator__penalty=l2, multioutputclassifier__estimator__solver=liblinear \n",
      "[CV]  multioutputclassifier__estimator__C=63.095734448, multioutputclassifier__estimator__penalty=l2, multioutputclassifier__estimator__solver=liblinear, score=0.24219308700834327, total= 1.6min\n",
      "[CV] multioutputclassifier__estimator__C=63.095734448, multioutputclassifier__estimator__penalty=l2, multioutputclassifier__estimator__solver=liblinear \n",
      "[CV]  multioutputclassifier__estimator__C=63.095734448, multioutputclassifier__estimator__penalty=l2, multioutputclassifier__estimator__solver=liblinear, score=0.2359952324195471, total= 1.6min\n",
      "[CV] multioutputclassifier__estimator__C=63.095734448, multioutputclassifier__estimator__penalty=l2, multioutputclassifier__estimator__solver=liblinear \n",
      "[CV]  multioutputclassifier__estimator__C=63.095734448, multioutputclassifier__estimator__penalty=l2, multioutputclassifier__estimator__solver=liblinear, score=0.24964234620886983, total= 1.7min\n",
      "[CV] multioutputclassifier__estimator__C=63.095734448, multioutputclassifier__estimator__penalty=l2, multioutputclassifier__estimator__solver=liblinear \n",
      "[CV]  multioutputclassifier__estimator__C=63.095734448, multioutputclassifier__estimator__penalty=l2, multioutputclassifier__estimator__solver=liblinear, score=0.24368144969003339, total= 1.6min\n",
      "[CV] multioutputclassifier__estimator__C=63.095734448, multioutputclassifier__estimator__penalty=l2, multioutputclassifier__estimator__solver=liblinear \n",
      "[CV]  multioutputclassifier__estimator__C=63.095734448, multioutputclassifier__estimator__penalty=l2, multioutputclassifier__estimator__solver=liblinear, score=0.23891273247496422, total= 1.7min\n",
      "[CV] multioutputclassifier__estimator__C=1000.0, multioutputclassifier__estimator__penalty=l1, multioutputclassifier__estimator__solver=liblinear \n",
      "[CV]  multioutputclassifier__estimator__C=1000.0, multioutputclassifier__estimator__penalty=l1, multioutputclassifier__estimator__solver=liblinear, score=0.13921334922526818, total= 2.1min\n",
      "[CV] multioutputclassifier__estimator__C=1000.0, multioutputclassifier__estimator__penalty=l1, multioutputclassifier__estimator__solver=liblinear \n",
      "[CV]  multioutputclassifier__estimator__C=1000.0, multioutputclassifier__estimator__penalty=l1, multioutputclassifier__estimator__solver=liblinear, score=0.1265792610250298, total= 2.0min\n",
      "[CV] multioutputclassifier__estimator__C=1000.0, multioutputclassifier__estimator__penalty=l1, multioutputclassifier__estimator__solver=liblinear \n",
      "[CV]  multioutputclassifier__estimator__C=1000.0, multioutputclassifier__estimator__penalty=l1, multioutputclassifier__estimator__solver=liblinear, score=0.1402002861230329, total= 2.1min\n",
      "[CV] multioutputclassifier__estimator__C=1000.0, multioutputclassifier__estimator__penalty=l1, multioutputclassifier__estimator__solver=liblinear \n",
      "[CV]  multioutputclassifier__estimator__C=1000.0, multioutputclassifier__estimator__penalty=l1, multioutputclassifier__estimator__solver=liblinear, score=0.13757749165474487, total= 2.0min\n",
      "[CV] multioutputclassifier__estimator__C=1000.0, multioutputclassifier__estimator__penalty=l1, multioutputclassifier__estimator__solver=liblinear \n",
      "[CV]  multioutputclassifier__estimator__C=1000.0, multioutputclassifier__estimator__penalty=l1, multioutputclassifier__estimator__solver=liblinear, score=0.1368621840724845, total= 1.9min\n",
      "[CV] multioutputclassifier__estimator__C=1000.0, multioutputclassifier__estimator__penalty=l2, multioutputclassifier__estimator__solver=liblinear \n",
      "[CV]  multioutputclassifier__estimator__C=1000.0, multioutputclassifier__estimator__penalty=l2, multioutputclassifier__estimator__solver=liblinear, score=0.18736591179976161, total= 1.7min\n",
      "[CV] multioutputclassifier__estimator__C=1000.0, multioutputclassifier__estimator__penalty=l2, multioutputclassifier__estimator__solver=liblinear \n",
      "[CV]  multioutputclassifier__estimator__C=1000.0, multioutputclassifier__estimator__penalty=l2, multioutputclassifier__estimator__solver=liblinear, score=0.16686531585220502, total= 1.7min\n",
      "[CV] multioutputclassifier__estimator__C=1000.0, multioutputclassifier__estimator__penalty=l2, multioutputclassifier__estimator__solver=liblinear \n",
      "[CV]  multioutputclassifier__estimator__C=1000.0, multioutputclassifier__estimator__penalty=l2, multioutputclassifier__estimator__solver=liblinear, score=0.18478779208392943, total= 1.7min\n",
      "[CV] multioutputclassifier__estimator__C=1000.0, multioutputclassifier__estimator__penalty=l2, multioutputclassifier__estimator__solver=liblinear \n",
      "[CV]  multioutputclassifier__estimator__C=1000.0, multioutputclassifier__estimator__penalty=l2, multioutputclassifier__estimator__solver=liblinear, score=0.18693371483071053, total= 1.7min\n",
      "[CV] multioutputclassifier__estimator__C=1000.0, multioutputclassifier__estimator__penalty=l2, multioutputclassifier__estimator__solver=liblinear \n",
      "[CV]  multioutputclassifier__estimator__C=1000.0, multioutputclassifier__estimator__penalty=l2, multioutputclassifier__estimator__solver=liblinear, score=0.1855030996661898, total= 1.7min\n"
     ]
    },
    {
     "name": "stderr",
     "output_type": "stream",
     "text": [
      "[Parallel(n_jobs=-1)]: Done  60 out of  60 | elapsed: 173.1min finished\n"
     ]
    },
    {
     "data": {
      "text/plain": [
       "GridSearchCV(cv=5, error_score='raise',\n",
       "       estimator=Pipeline(memory=None,\n",
       "     steps=[('tfidfvectorizer', TfidfVectorizer(analyzer='word', binary=False, decode_error='strict',\n",
       "        dtype=<class 'numpy.int64'>, encoding='utf-8', input='content',\n",
       "        lowercase=True, max_df=1.0, max_features=None, min_df=1,\n",
       "        ngram_range=(1, 1), norm='l2', preprocessor=None, smooth_i...=123, solver='liblinear', tol=0.0001,\n",
       "          verbose=0, warm_start=False),\n",
       "           n_jobs=1))]),\n",
       "       fit_params=None, iid=True, n_jobs=-1,\n",
       "       param_grid={'multioutputclassifier__estimator__penalty': ['l1', 'l2'], 'multioutputclassifier__estimator__C': array([  1.00000e-03,   1.58489e-02,   2.51189e-01,   3.98107e+00,\n",
       "         6.30957e+01,   1.00000e+03]), 'multioutputclassifier__estimator__solver': ['liblinear']},\n",
       "       pre_dispatch='2*n_jobs', refit=True, return_train_score='warn',\n",
       "       scoring=None, verbose=4)"
      ]
     },
     "execution_count": 36,
     "metadata": {},
     "output_type": "execute_result"
    }
   ],
   "source": [
    "cv.fit(x_train, y_train)"
   ]
  },
  {
   "cell_type": "code",
   "execution_count": 37,
   "metadata": {},
   "outputs": [
    {
     "data": {
      "text/plain": [
       "{'multioutputclassifier__estimator__C': 3.9810717055349691,\n",
       " 'multioutputclassifier__estimator__penalty': 'l2',\n",
       " 'multioutputclassifier__estimator__solver': 'liblinear'}"
      ]
     },
     "execution_count": 37,
     "metadata": {},
     "output_type": "execute_result"
    }
   ],
   "source": [
    "cv.best_params_"
   ]
  },
  {
   "cell_type": "code",
   "execution_count": 38,
   "metadata": {},
   "outputs": [
    {
     "data": {
      "text/plain": [
       "Pipeline(memory=None,\n",
       "     steps=[('tfidfvectorizer', TfidfVectorizer(analyzer='word', binary=False, decode_error='strict',\n",
       "        dtype=<class 'numpy.int64'>, encoding='utf-8', input='content',\n",
       "        lowercase=True, max_df=1.0, max_features=None, min_df=1,\n",
       "        ngram_range=(1, 1), norm='l2', preprocessor=None, smooth_i...=123,\n",
       "          solver='liblinear', tol=0.0001, verbose=0, warm_start=False),\n",
       "           n_jobs=1))])"
      ]
     },
     "execution_count": 38,
     "metadata": {},
     "output_type": "execute_result"
    }
   ],
   "source": [
    "pipeline_lg.set_params(**cv.best_params_)"
   ]
  },
  {
   "cell_type": "code",
   "execution_count": 39,
   "metadata": {},
   "outputs": [
    {
     "data": {
      "text/plain": [
       "Pipeline(memory=None,\n",
       "     steps=[('tfidfvectorizer', TfidfVectorizer(analyzer='word', binary=False, decode_error='strict',\n",
       "        dtype=<class 'numpy.int64'>, encoding='utf-8', input='content',\n",
       "        lowercase=True, max_df=1.0, max_features=None, min_df=1,\n",
       "        ngram_range=(1, 1), norm='l2', preprocessor=None, smooth_i...=123,\n",
       "          solver='liblinear', tol=0.0001, verbose=0, warm_start=False),\n",
       "           n_jobs=1))])"
      ]
     },
     "execution_count": 39,
     "metadata": {},
     "output_type": "execute_result"
    }
   ],
   "source": [
    "pipeline_lg.fit(x_train, y_train)"
   ]
  },
  {
   "cell_type": "markdown",
   "metadata": {},
   "source": [
    "### 7. Test your model\n",
    "Show the accuracy, precision, and recall of the tuned model.  \n",
    "\n",
    "Since this project focuses on code quality, process, and  pipelines, there is no minimum performance metric needed to pass. However, make sure to fine tune your models for accuracy, precision and recall to make your project stand out - especially for your portfolio!"
   ]
  },
  {
   "cell_type": "code",
   "execution_count": 68,
   "metadata": {},
   "outputs": [],
   "source": [
    "y_pred = pipeline_lg.predict(x_test)"
   ]
  },
  {
   "cell_type": "code",
   "execution_count": 69,
   "metadata": {},
   "outputs": [
    {
     "name": "stdout",
     "output_type": "stream",
     "text": [
      "                        precision    recall  f1-score   support\n",
      "\n",
      "               related       0.86      0.94      0.90      4024\n",
      "               request       0.80      0.61      0.69       889\n",
      "                 offer       0.00      0.00      0.00        22\n",
      "           aid_related       0.76      0.68      0.72      2187\n",
      "          medical_help       0.64      0.26      0.37       417\n",
      "      medical_products       0.67      0.28      0.40       260\n",
      "     search_and_rescue       0.67      0.21      0.33       135\n",
      "              security       0.50      0.01      0.02        97\n",
      "              military       0.73      0.26      0.39       183\n",
      "                 water       0.80      0.58      0.67       339\n",
      "                  food       0.86      0.63      0.73       580\n",
      "               shelter       0.78      0.52      0.63       460\n",
      "              clothing       0.80      0.41      0.55        80\n",
      "                 money       0.53      0.22      0.31       108\n",
      "        missing_people       0.50      0.03      0.06        61\n",
      "              refugees       0.68      0.22      0.34       179\n",
      "                 death       0.76      0.42      0.54       239\n",
      "             other_aid       0.55      0.20      0.30       672\n",
      "infrastructure_related       0.44      0.09      0.15       328\n",
      "             transport       0.73      0.18      0.28       251\n",
      "             buildings       0.75      0.34      0.47       253\n",
      "           electricity       0.78      0.21      0.33       100\n",
      "                 tools       0.00      0.00      0.00        30\n",
      "             hospitals       0.40      0.03      0.06        60\n",
      "                 shops       0.00      0.00      0.00        26\n",
      "           aid_centers       0.67      0.03      0.05        71\n",
      "  other_infrastructure       0.34      0.06      0.10       219\n",
      "       weather_related       0.84      0.69      0.76      1439\n",
      "                floods       0.89      0.53      0.67       432\n",
      "                 storm       0.77      0.56      0.65       485\n",
      "                  fire       0.86      0.24      0.38        50\n",
      "            earthquake       0.88      0.70      0.78       475\n",
      "                  cold       0.86      0.28      0.43       109\n",
      "         other_weather       0.58      0.12      0.19       275\n",
      "         direct_report       0.73      0.48      0.58      1021\n",
      "\n",
      "           avg / total       0.77      0.59      0.64     16556\n",
      "\n"
     ]
    },
    {
     "name": "stderr",
     "output_type": "stream",
     "text": [
      "/opt/conda/lib/python3.6/site-packages/sklearn/metrics/classification.py:1135: UndefinedMetricWarning: Precision and F-score are ill-defined and being set to 0.0 in labels with no predicted samples.\n",
      "  'precision', 'predicted', average, warn_for)\n"
     ]
    }
   ],
   "source": [
    "print(classification_report(y_test.values,y_pred, target_names=Y.columns))"
   ]
  },
  {
   "cell_type": "markdown",
   "metadata": {},
   "source": [
    "### 8. Try improving your model further. Here are a few ideas:\n",
    "* try other machine learning algorithms\n",
    "* add other features besides the TF-IDF"
   ]
  },
  {
   "cell_type": "code",
   "execution_count": 47,
   "metadata": {},
   "outputs": [],
   "source": [
    "from sklearn.linear_model import SGDClassifier\n",
    "from sklearn.ensemble import RandomForestClassifier, GradientBoostingClassifier"
   ]
  },
  {
   "cell_type": "code",
   "execution_count": 52,
   "metadata": {},
   "outputs": [],
   "source": [
    "pipeline_tfidf_lg = make_pipeline(CountVectorizer(tokenizer=tokenize), TfidfTransformer(), MultiOutputClassifier(LogisticRegression(random_state=123)))"
   ]
  },
  {
   "cell_type": "code",
   "execution_count": 53,
   "metadata": {},
   "outputs": [
    {
     "data": {
      "text/plain": [
       "Pipeline(memory=None,\n",
       "     steps=[('countvectorizer', CountVectorizer(analyzer='word', binary=False, decode_error='strict',\n",
       "        dtype=<class 'numpy.int64'>, encoding='utf-8', input='content',\n",
       "        lowercase=True, max_df=1.0, max_features=None, min_df=1,\n",
       "        ngram_range=(1, 1), preprocessor=None, stop_words=None,\n",
       "  ...=123, solver='liblinear', tol=0.0001,\n",
       "          verbose=0, warm_start=False),\n",
       "           n_jobs=1))])"
      ]
     },
     "execution_count": 53,
     "metadata": {},
     "output_type": "execute_result"
    }
   ],
   "source": [
    "pipeline_tfidf_lg.fit(x_train, y_train)"
   ]
  },
  {
   "cell_type": "code",
   "execution_count": 54,
   "metadata": {},
   "outputs": [],
   "source": [
    "y_pred_tfidf_lg = pipeline_tfidf_lg.predict(x_test)"
   ]
  },
  {
   "cell_type": "code",
   "execution_count": 55,
   "metadata": {},
   "outputs": [
    {
     "name": "stdout",
     "output_type": "stream",
     "text": [
      "             precision    recall  f1-score   support\n",
      "\n",
      "          0       0.84      0.95      0.89      4024\n",
      "          1       0.84      0.56      0.67       889\n",
      "          2       0.00      0.00      0.00        22\n",
      "          3       0.78      0.66      0.72      2187\n",
      "          4       0.70      0.19      0.30       417\n",
      "          5       0.74      0.20      0.32       260\n",
      "          6       0.88      0.10      0.19       135\n",
      "          7       0.00      0.00      0.00        97\n",
      "          8       0.74      0.13      0.21       183\n",
      "          9       0.81      0.49      0.61       339\n",
      "         10       0.87      0.59      0.70       580\n",
      "         11       0.82      0.46      0.59       460\n",
      "         12       0.78      0.31      0.45        80\n",
      "         13       0.58      0.13      0.21       108\n",
      "         14       0.00      0.00      0.00        61\n",
      "         15       0.73      0.09      0.16       179\n",
      "         16       0.80      0.29      0.43       239\n",
      "         17       0.61      0.13      0.21       672\n",
      "         18       0.52      0.04      0.08       328\n",
      "         19       0.76      0.13      0.22       251\n",
      "         20       0.82      0.28      0.42       253\n",
      "         21       0.80      0.12      0.21       100\n",
      "         22       0.00      0.00      0.00        30\n",
      "         23       1.00      0.02      0.03        60\n",
      "         24       0.00      0.00      0.00        26\n",
      "         25       0.00      0.00      0.00        71\n",
      "         26       0.33      0.01      0.03       219\n",
      "         27       0.86      0.66      0.74      1439\n",
      "         28       0.91      0.47      0.62       432\n",
      "         29       0.79      0.49      0.60       485\n",
      "         30       0.75      0.06      0.11        50\n",
      "         31       0.89      0.62      0.73       475\n",
      "         32       0.83      0.09      0.17       109\n",
      "         33       0.64      0.03      0.05       275\n",
      "         34       0.77      0.43      0.55      1021\n",
      "\n",
      "avg / total       0.78      0.55      0.61     16556\n",
      "\n"
     ]
    },
    {
     "name": "stderr",
     "output_type": "stream",
     "text": [
      "/opt/conda/lib/python3.6/site-packages/sklearn/metrics/classification.py:1135: UndefinedMetricWarning: Precision and F-score are ill-defined and being set to 0.0 in labels with no predicted samples.\n",
      "  'precision', 'predicted', average, warn_for)\n"
     ]
    }
   ],
   "source": [
    "print(classification_report(y_test.values,y_pred_tfidf_lg))"
   ]
  },
  {
   "cell_type": "code",
   "execution_count": 47,
   "metadata": {},
   "outputs": [],
   "source": [
    "pipeline_rf = make_pipeline(CountVectorizer(tokenizer=tokenize), TfidfTransformer(), MultiOutputClassifier(RandomForestClassifier(random_state=123)))\n",
    "\n",
    "pipeline_gb = make_pipeline(CountVectorizer(tokenizer=tokenize), TfidfTransformer(), MultiOutputClassifier(GradientBoostingClassifier(random_state=123)))"
   ]
  },
  {
   "cell_type": "code",
   "execution_count": 48,
   "metadata": {},
   "outputs": [],
   "source": [
    "pipeline_sgd = make_pipeline(CountVectorizer(tokenizer=tokenize), TfidfTransformer(), MultiOutputClassifier(SGDClassifier(random_state=123)))"
   ]
  },
  {
   "cell_type": "code",
   "execution_count": 49,
   "metadata": {},
   "outputs": [
    {
     "data": {
      "text/plain": [
       "Pipeline(memory=None,\n",
       "     steps=[('countvectorizer', CountVectorizer(analyzer='word', binary=False, decode_error='strict',\n",
       "        dtype=<class 'numpy.int64'>, encoding='utf-8', input='content',\n",
       "        lowercase=True, max_df=1.0, max_features=None, min_df=1,\n",
       "        ngram_range=(1, 1), preprocessor=None, stop_words=None,\n",
       "  ...\n",
       "            oob_score=False, random_state=123, verbose=0, warm_start=False),\n",
       "           n_jobs=1))])"
      ]
     },
     "execution_count": 49,
     "metadata": {},
     "output_type": "execute_result"
    }
   ],
   "source": [
    "pipeline_rf.fit(x_train, y_train)"
   ]
  },
  {
   "cell_type": "code",
   "execution_count": 50,
   "metadata": {},
   "outputs": [
    {
     "data": {
      "text/plain": [
       "Pipeline(memory=None,\n",
       "     steps=[('countvectorizer', CountVectorizer(analyzer='word', binary=False, decode_error='strict',\n",
       "        dtype=<class 'numpy.int64'>, encoding='utf-8', input='content',\n",
       "        lowercase=True, max_df=1.0, max_features=None, min_df=1,\n",
       "        ngram_range=(1, 1), preprocessor=None, stop_words=None,\n",
       "  ... random_state=123, subsample=1.0, verbose=0,\n",
       "              warm_start=False),\n",
       "           n_jobs=1))])"
      ]
     },
     "execution_count": 50,
     "metadata": {},
     "output_type": "execute_result"
    }
   ],
   "source": [
    "pipeline_gb.fit(x_train, y_train)"
   ]
  },
  {
   "cell_type": "code",
   "execution_count": 51,
   "metadata": {
    "scrolled": true
   },
   "outputs": [
    {
     "name": "stderr",
     "output_type": "stream",
     "text": [
      "/opt/conda/lib/python3.6/site-packages/sklearn/linear_model/stochastic_gradient.py:128: FutureWarning: max_iter and tol parameters have been added in <class 'sklearn.linear_model.stochastic_gradient.SGDClassifier'> in 0.19. If both are left unset, they default to max_iter=5 and tol=None. If tol is not None, max_iter defaults to max_iter=1000. From 0.21, default max_iter will be 1000, and default tol will be 1e-3.\n",
      "  \"and default tol will be 1e-3.\" % type(self), FutureWarning)\n",
      "/opt/conda/lib/python3.6/site-packages/sklearn/linear_model/stochastic_gradient.py:128: FutureWarning: max_iter and tol parameters have been added in <class 'sklearn.linear_model.stochastic_gradient.SGDClassifier'> in 0.19. If both are left unset, they default to max_iter=5 and tol=None. If tol is not None, max_iter defaults to max_iter=1000. From 0.21, default max_iter will be 1000, and default tol will be 1e-3.\n",
      "  \"and default tol will be 1e-3.\" % type(self), FutureWarning)\n",
      "/opt/conda/lib/python3.6/site-packages/sklearn/linear_model/stochastic_gradient.py:128: FutureWarning: max_iter and tol parameters have been added in <class 'sklearn.linear_model.stochastic_gradient.SGDClassifier'> in 0.19. If both are left unset, they default to max_iter=5 and tol=None. If tol is not None, max_iter defaults to max_iter=1000. From 0.21, default max_iter will be 1000, and default tol will be 1e-3.\n",
      "  \"and default tol will be 1e-3.\" % type(self), FutureWarning)\n",
      "/opt/conda/lib/python3.6/site-packages/sklearn/linear_model/stochastic_gradient.py:128: FutureWarning: max_iter and tol parameters have been added in <class 'sklearn.linear_model.stochastic_gradient.SGDClassifier'> in 0.19. If both are left unset, they default to max_iter=5 and tol=None. If tol is not None, max_iter defaults to max_iter=1000. From 0.21, default max_iter will be 1000, and default tol will be 1e-3.\n",
      "  \"and default tol will be 1e-3.\" % type(self), FutureWarning)\n",
      "/opt/conda/lib/python3.6/site-packages/sklearn/linear_model/stochastic_gradient.py:128: FutureWarning: max_iter and tol parameters have been added in <class 'sklearn.linear_model.stochastic_gradient.SGDClassifier'> in 0.19. If both are left unset, they default to max_iter=5 and tol=None. If tol is not None, max_iter defaults to max_iter=1000. From 0.21, default max_iter will be 1000, and default tol will be 1e-3.\n",
      "  \"and default tol will be 1e-3.\" % type(self), FutureWarning)\n",
      "/opt/conda/lib/python3.6/site-packages/sklearn/linear_model/stochastic_gradient.py:128: FutureWarning: max_iter and tol parameters have been added in <class 'sklearn.linear_model.stochastic_gradient.SGDClassifier'> in 0.19. If both are left unset, they default to max_iter=5 and tol=None. If tol is not None, max_iter defaults to max_iter=1000. From 0.21, default max_iter will be 1000, and default tol will be 1e-3.\n",
      "  \"and default tol will be 1e-3.\" % type(self), FutureWarning)\n",
      "/opt/conda/lib/python3.6/site-packages/sklearn/linear_model/stochastic_gradient.py:128: FutureWarning: max_iter and tol parameters have been added in <class 'sklearn.linear_model.stochastic_gradient.SGDClassifier'> in 0.19. If both are left unset, they default to max_iter=5 and tol=None. If tol is not None, max_iter defaults to max_iter=1000. From 0.21, default max_iter will be 1000, and default tol will be 1e-3.\n",
      "  \"and default tol will be 1e-3.\" % type(self), FutureWarning)\n",
      "/opt/conda/lib/python3.6/site-packages/sklearn/linear_model/stochastic_gradient.py:128: FutureWarning: max_iter and tol parameters have been added in <class 'sklearn.linear_model.stochastic_gradient.SGDClassifier'> in 0.19. If both are left unset, they default to max_iter=5 and tol=None. If tol is not None, max_iter defaults to max_iter=1000. From 0.21, default max_iter will be 1000, and default tol will be 1e-3.\n",
      "  \"and default tol will be 1e-3.\" % type(self), FutureWarning)\n",
      "/opt/conda/lib/python3.6/site-packages/sklearn/linear_model/stochastic_gradient.py:128: FutureWarning: max_iter and tol parameters have been added in <class 'sklearn.linear_model.stochastic_gradient.SGDClassifier'> in 0.19. If both are left unset, they default to max_iter=5 and tol=None. If tol is not None, max_iter defaults to max_iter=1000. From 0.21, default max_iter will be 1000, and default tol will be 1e-3.\n",
      "  \"and default tol will be 1e-3.\" % type(self), FutureWarning)\n",
      "/opt/conda/lib/python3.6/site-packages/sklearn/linear_model/stochastic_gradient.py:128: FutureWarning: max_iter and tol parameters have been added in <class 'sklearn.linear_model.stochastic_gradient.SGDClassifier'> in 0.19. If both are left unset, they default to max_iter=5 and tol=None. If tol is not None, max_iter defaults to max_iter=1000. From 0.21, default max_iter will be 1000, and default tol will be 1e-3.\n",
      "  \"and default tol will be 1e-3.\" % type(self), FutureWarning)\n",
      "/opt/conda/lib/python3.6/site-packages/sklearn/linear_model/stochastic_gradient.py:128: FutureWarning: max_iter and tol parameters have been added in <class 'sklearn.linear_model.stochastic_gradient.SGDClassifier'> in 0.19. If both are left unset, they default to max_iter=5 and tol=None. If tol is not None, max_iter defaults to max_iter=1000. From 0.21, default max_iter will be 1000, and default tol will be 1e-3.\n",
      "  \"and default tol will be 1e-3.\" % type(self), FutureWarning)\n",
      "/opt/conda/lib/python3.6/site-packages/sklearn/linear_model/stochastic_gradient.py:128: FutureWarning: max_iter and tol parameters have been added in <class 'sklearn.linear_model.stochastic_gradient.SGDClassifier'> in 0.19. If both are left unset, they default to max_iter=5 and tol=None. If tol is not None, max_iter defaults to max_iter=1000. From 0.21, default max_iter will be 1000, and default tol will be 1e-3.\n",
      "  \"and default tol will be 1e-3.\" % type(self), FutureWarning)\n",
      "/opt/conda/lib/python3.6/site-packages/sklearn/linear_model/stochastic_gradient.py:128: FutureWarning: max_iter and tol parameters have been added in <class 'sklearn.linear_model.stochastic_gradient.SGDClassifier'> in 0.19. If both are left unset, they default to max_iter=5 and tol=None. If tol is not None, max_iter defaults to max_iter=1000. From 0.21, default max_iter will be 1000, and default tol will be 1e-3.\n",
      "  \"and default tol will be 1e-3.\" % type(self), FutureWarning)\n",
      "/opt/conda/lib/python3.6/site-packages/sklearn/linear_model/stochastic_gradient.py:128: FutureWarning: max_iter and tol parameters have been added in <class 'sklearn.linear_model.stochastic_gradient.SGDClassifier'> in 0.19. If both are left unset, they default to max_iter=5 and tol=None. If tol is not None, max_iter defaults to max_iter=1000. From 0.21, default max_iter will be 1000, and default tol will be 1e-3.\n",
      "  \"and default tol will be 1e-3.\" % type(self), FutureWarning)\n",
      "/opt/conda/lib/python3.6/site-packages/sklearn/linear_model/stochastic_gradient.py:128: FutureWarning: max_iter and tol parameters have been added in <class 'sklearn.linear_model.stochastic_gradient.SGDClassifier'> in 0.19. If both are left unset, they default to max_iter=5 and tol=None. If tol is not None, max_iter defaults to max_iter=1000. From 0.21, default max_iter will be 1000, and default tol will be 1e-3.\n",
      "  \"and default tol will be 1e-3.\" % type(self), FutureWarning)\n",
      "/opt/conda/lib/python3.6/site-packages/sklearn/linear_model/stochastic_gradient.py:128: FutureWarning: max_iter and tol parameters have been added in <class 'sklearn.linear_model.stochastic_gradient.SGDClassifier'> in 0.19. If both are left unset, they default to max_iter=5 and tol=None. If tol is not None, max_iter defaults to max_iter=1000. From 0.21, default max_iter will be 1000, and default tol will be 1e-3.\n",
      "  \"and default tol will be 1e-3.\" % type(self), FutureWarning)\n",
      "/opt/conda/lib/python3.6/site-packages/sklearn/linear_model/stochastic_gradient.py:128: FutureWarning: max_iter and tol parameters have been added in <class 'sklearn.linear_model.stochastic_gradient.SGDClassifier'> in 0.19. If both are left unset, they default to max_iter=5 and tol=None. If tol is not None, max_iter defaults to max_iter=1000. From 0.21, default max_iter will be 1000, and default tol will be 1e-3.\n",
      "  \"and default tol will be 1e-3.\" % type(self), FutureWarning)\n",
      "/opt/conda/lib/python3.6/site-packages/sklearn/linear_model/stochastic_gradient.py:128: FutureWarning: max_iter and tol parameters have been added in <class 'sklearn.linear_model.stochastic_gradient.SGDClassifier'> in 0.19. If both are left unset, they default to max_iter=5 and tol=None. If tol is not None, max_iter defaults to max_iter=1000. From 0.21, default max_iter will be 1000, and default tol will be 1e-3.\n",
      "  \"and default tol will be 1e-3.\" % type(self), FutureWarning)\n",
      "/opt/conda/lib/python3.6/site-packages/sklearn/linear_model/stochastic_gradient.py:128: FutureWarning: max_iter and tol parameters have been added in <class 'sklearn.linear_model.stochastic_gradient.SGDClassifier'> in 0.19. If both are left unset, they default to max_iter=5 and tol=None. If tol is not None, max_iter defaults to max_iter=1000. From 0.21, default max_iter will be 1000, and default tol will be 1e-3.\n",
      "  \"and default tol will be 1e-3.\" % type(self), FutureWarning)\n",
      "/opt/conda/lib/python3.6/site-packages/sklearn/linear_model/stochastic_gradient.py:128: FutureWarning: max_iter and tol parameters have been added in <class 'sklearn.linear_model.stochastic_gradient.SGDClassifier'> in 0.19. If both are left unset, they default to max_iter=5 and tol=None. If tol is not None, max_iter defaults to max_iter=1000. From 0.21, default max_iter will be 1000, and default tol will be 1e-3.\n",
      "  \"and default tol will be 1e-3.\" % type(self), FutureWarning)\n",
      "/opt/conda/lib/python3.6/site-packages/sklearn/linear_model/stochastic_gradient.py:128: FutureWarning: max_iter and tol parameters have been added in <class 'sklearn.linear_model.stochastic_gradient.SGDClassifier'> in 0.19. If both are left unset, they default to max_iter=5 and tol=None. If tol is not None, max_iter defaults to max_iter=1000. From 0.21, default max_iter will be 1000, and default tol will be 1e-3.\n",
      "  \"and default tol will be 1e-3.\" % type(self), FutureWarning)\n",
      "/opt/conda/lib/python3.6/site-packages/sklearn/linear_model/stochastic_gradient.py:128: FutureWarning: max_iter and tol parameters have been added in <class 'sklearn.linear_model.stochastic_gradient.SGDClassifier'> in 0.19. If both are left unset, they default to max_iter=5 and tol=None. If tol is not None, max_iter defaults to max_iter=1000. From 0.21, default max_iter will be 1000, and default tol will be 1e-3.\n",
      "  \"and default tol will be 1e-3.\" % type(self), FutureWarning)\n",
      "/opt/conda/lib/python3.6/site-packages/sklearn/linear_model/stochastic_gradient.py:128: FutureWarning: max_iter and tol parameters have been added in <class 'sklearn.linear_model.stochastic_gradient.SGDClassifier'> in 0.19. If both are left unset, they default to max_iter=5 and tol=None. If tol is not None, max_iter defaults to max_iter=1000. From 0.21, default max_iter will be 1000, and default tol will be 1e-3.\n",
      "  \"and default tol will be 1e-3.\" % type(self), FutureWarning)\n",
      "/opt/conda/lib/python3.6/site-packages/sklearn/linear_model/stochastic_gradient.py:128: FutureWarning: max_iter and tol parameters have been added in <class 'sklearn.linear_model.stochastic_gradient.SGDClassifier'> in 0.19. If both are left unset, they default to max_iter=5 and tol=None. If tol is not None, max_iter defaults to max_iter=1000. From 0.21, default max_iter will be 1000, and default tol will be 1e-3.\n",
      "  \"and default tol will be 1e-3.\" % type(self), FutureWarning)\n",
      "/opt/conda/lib/python3.6/site-packages/sklearn/linear_model/stochastic_gradient.py:128: FutureWarning: max_iter and tol parameters have been added in <class 'sklearn.linear_model.stochastic_gradient.SGDClassifier'> in 0.19. If both are left unset, they default to max_iter=5 and tol=None. If tol is not None, max_iter defaults to max_iter=1000. From 0.21, default max_iter will be 1000, and default tol will be 1e-3.\n",
      "  \"and default tol will be 1e-3.\" % type(self), FutureWarning)\n",
      "/opt/conda/lib/python3.6/site-packages/sklearn/linear_model/stochastic_gradient.py:128: FutureWarning: max_iter and tol parameters have been added in <class 'sklearn.linear_model.stochastic_gradient.SGDClassifier'> in 0.19. If both are left unset, they default to max_iter=5 and tol=None. If tol is not None, max_iter defaults to max_iter=1000. From 0.21, default max_iter will be 1000, and default tol will be 1e-3.\n",
      "  \"and default tol will be 1e-3.\" % type(self), FutureWarning)\n",
      "/opt/conda/lib/python3.6/site-packages/sklearn/linear_model/stochastic_gradient.py:128: FutureWarning: max_iter and tol parameters have been added in <class 'sklearn.linear_model.stochastic_gradient.SGDClassifier'> in 0.19. If both are left unset, they default to max_iter=5 and tol=None. If tol is not None, max_iter defaults to max_iter=1000. From 0.21, default max_iter will be 1000, and default tol will be 1e-3.\n",
      "  \"and default tol will be 1e-3.\" % type(self), FutureWarning)\n",
      "/opt/conda/lib/python3.6/site-packages/sklearn/linear_model/stochastic_gradient.py:128: FutureWarning: max_iter and tol parameters have been added in <class 'sklearn.linear_model.stochastic_gradient.SGDClassifier'> in 0.19. If both are left unset, they default to max_iter=5 and tol=None. If tol is not None, max_iter defaults to max_iter=1000. From 0.21, default max_iter will be 1000, and default tol will be 1e-3.\n",
      "  \"and default tol will be 1e-3.\" % type(self), FutureWarning)\n",
      "/opt/conda/lib/python3.6/site-packages/sklearn/linear_model/stochastic_gradient.py:128: FutureWarning: max_iter and tol parameters have been added in <class 'sklearn.linear_model.stochastic_gradient.SGDClassifier'> in 0.19. If both are left unset, they default to max_iter=5 and tol=None. If tol is not None, max_iter defaults to max_iter=1000. From 0.21, default max_iter will be 1000, and default tol will be 1e-3.\n",
      "  \"and default tol will be 1e-3.\" % type(self), FutureWarning)\n",
      "/opt/conda/lib/python3.6/site-packages/sklearn/linear_model/stochastic_gradient.py:128: FutureWarning: max_iter and tol parameters have been added in <class 'sklearn.linear_model.stochastic_gradient.SGDClassifier'> in 0.19. If both are left unset, they default to max_iter=5 and tol=None. If tol is not None, max_iter defaults to max_iter=1000. From 0.21, default max_iter will be 1000, and default tol will be 1e-3.\n",
      "  \"and default tol will be 1e-3.\" % type(self), FutureWarning)\n",
      "/opt/conda/lib/python3.6/site-packages/sklearn/linear_model/stochastic_gradient.py:128: FutureWarning: max_iter and tol parameters have been added in <class 'sklearn.linear_model.stochastic_gradient.SGDClassifier'> in 0.19. If both are left unset, they default to max_iter=5 and tol=None. If tol is not None, max_iter defaults to max_iter=1000. From 0.21, default max_iter will be 1000, and default tol will be 1e-3.\n",
      "  \"and default tol will be 1e-3.\" % type(self), FutureWarning)\n",
      "/opt/conda/lib/python3.6/site-packages/sklearn/linear_model/stochastic_gradient.py:128: FutureWarning: max_iter and tol parameters have been added in <class 'sklearn.linear_model.stochastic_gradient.SGDClassifier'> in 0.19. If both are left unset, they default to max_iter=5 and tol=None. If tol is not None, max_iter defaults to max_iter=1000. From 0.21, default max_iter will be 1000, and default tol will be 1e-3.\n",
      "  \"and default tol will be 1e-3.\" % type(self), FutureWarning)\n",
      "/opt/conda/lib/python3.6/site-packages/sklearn/linear_model/stochastic_gradient.py:128: FutureWarning: max_iter and tol parameters have been added in <class 'sklearn.linear_model.stochastic_gradient.SGDClassifier'> in 0.19. If both are left unset, they default to max_iter=5 and tol=None. If tol is not None, max_iter defaults to max_iter=1000. From 0.21, default max_iter will be 1000, and default tol will be 1e-3.\n",
      "  \"and default tol will be 1e-3.\" % type(self), FutureWarning)\n",
      "/opt/conda/lib/python3.6/site-packages/sklearn/linear_model/stochastic_gradient.py:128: FutureWarning: max_iter and tol parameters have been added in <class 'sklearn.linear_model.stochastic_gradient.SGDClassifier'> in 0.19. If both are left unset, they default to max_iter=5 and tol=None. If tol is not None, max_iter defaults to max_iter=1000. From 0.21, default max_iter will be 1000, and default tol will be 1e-3.\n",
      "  \"and default tol will be 1e-3.\" % type(self), FutureWarning)\n",
      "/opt/conda/lib/python3.6/site-packages/sklearn/linear_model/stochastic_gradient.py:128: FutureWarning: max_iter and tol parameters have been added in <class 'sklearn.linear_model.stochastic_gradient.SGDClassifier'> in 0.19. If both are left unset, they default to max_iter=5 and tol=None. If tol is not None, max_iter defaults to max_iter=1000. From 0.21, default max_iter will be 1000, and default tol will be 1e-3.\n",
      "  \"and default tol will be 1e-3.\" % type(self), FutureWarning)\n"
     ]
    },
    {
     "data": {
      "text/plain": [
       "Pipeline(memory=None,\n",
       "     steps=[('countvectorizer', CountVectorizer(analyzer='word', binary=False, decode_error='strict',\n",
       "        dtype=<class 'numpy.int64'>, encoding='utf-8', input='content',\n",
       "        lowercase=True, max_df=1.0, max_features=None, min_df=1,\n",
       "        ngram_range=(1, 1), preprocessor=None, stop_words=None,\n",
       "  ...andom_state=123, shuffle=True,\n",
       "       tol=None, verbose=0, warm_start=False),\n",
       "           n_jobs=1))])"
      ]
     },
     "execution_count": 51,
     "metadata": {},
     "output_type": "execute_result"
    }
   ],
   "source": [
    "pipeline_sgd.fit(x_train, y_train)"
   ]
  },
  {
   "cell_type": "code",
   "execution_count": 52,
   "metadata": {},
   "outputs": [],
   "source": [
    "y_predict_rf = pipeline_rf.predict(x_test)\n",
    "y_predict_gb = pipeline_gb.predict(x_test)"
   ]
  },
  {
   "cell_type": "code",
   "execution_count": 53,
   "metadata": {},
   "outputs": [],
   "source": [
    "y_predict_sgd = pipeline_sgd.predict(x_test)"
   ]
  },
  {
   "cell_type": "code",
   "execution_count": 54,
   "metadata": {},
   "outputs": [
    {
     "name": "stderr",
     "output_type": "stream",
     "text": [
      "/opt/conda/lib/python3.6/site-packages/sklearn/metrics/classification.py:1135: UndefinedMetricWarning: Precision and F-score are ill-defined and being set to 0.0 in labels with no predicted samples.\n",
      "  'precision', 'predicted', average, warn_for)\n"
     ]
    }
   ],
   "source": [
    "rf_report = classification_report(y_test.values,y_predict_rf)"
   ]
  },
  {
   "cell_type": "code",
   "execution_count": 55,
   "metadata": {},
   "outputs": [],
   "source": [
    "gb_report = classification_report(y_test.values,y_predict_gb)"
   ]
  },
  {
   "cell_type": "code",
   "execution_count": 56,
   "metadata": {},
   "outputs": [
    {
     "name": "stderr",
     "output_type": "stream",
     "text": [
      "/opt/conda/lib/python3.6/site-packages/sklearn/metrics/classification.py:1135: UndefinedMetricWarning: Precision and F-score are ill-defined and being set to 0.0 in labels with no predicted samples.\n",
      "  'precision', 'predicted', average, warn_for)\n"
     ]
    }
   ],
   "source": [
    "sgd_report = classification_report(y_test.values,y_predict_sgd)"
   ]
  },
  {
   "cell_type": "code",
   "execution_count": 31,
   "metadata": {
    "scrolled": true
   },
   "outputs": [
    {
     "name": "stderr",
     "output_type": "stream",
     "text": [
      "/opt/conda/lib/python3.6/site-packages/sklearn/linear_model/stochastic_gradient.py:128: FutureWarning: max_iter and tol parameters have been added in <class 'sklearn.linear_model.stochastic_gradient.SGDClassifier'> in 0.19. If both are left unset, they default to max_iter=5 and tol=None. If tol is not None, max_iter defaults to max_iter=1000. From 0.21, default max_iter will be 1000, and default tol will be 1e-3.\n",
      "  \"and default tol will be 1e-3.\" % type(self), FutureWarning)\n",
      "/opt/conda/lib/python3.6/site-packages/sklearn/linear_model/stochastic_gradient.py:128: FutureWarning: max_iter and tol parameters have been added in <class 'sklearn.linear_model.stochastic_gradient.SGDClassifier'> in 0.19. If both are left unset, they default to max_iter=5 and tol=None. If tol is not None, max_iter defaults to max_iter=1000. From 0.21, default max_iter will be 1000, and default tol will be 1e-3.\n",
      "  \"and default tol will be 1e-3.\" % type(self), FutureWarning)\n",
      "/opt/conda/lib/python3.6/site-packages/sklearn/linear_model/stochastic_gradient.py:128: FutureWarning: max_iter and tol parameters have been added in <class 'sklearn.linear_model.stochastic_gradient.SGDClassifier'> in 0.19. If both are left unset, they default to max_iter=5 and tol=None. If tol is not None, max_iter defaults to max_iter=1000. From 0.21, default max_iter will be 1000, and default tol will be 1e-3.\n",
      "  \"and default tol will be 1e-3.\" % type(self), FutureWarning)\n",
      "/opt/conda/lib/python3.6/site-packages/sklearn/linear_model/stochastic_gradient.py:128: FutureWarning: max_iter and tol parameters have been added in <class 'sklearn.linear_model.stochastic_gradient.SGDClassifier'> in 0.19. If both are left unset, they default to max_iter=5 and tol=None. If tol is not None, max_iter defaults to max_iter=1000. From 0.21, default max_iter will be 1000, and default tol will be 1e-3.\n",
      "  \"and default tol will be 1e-3.\" % type(self), FutureWarning)\n",
      "/opt/conda/lib/python3.6/site-packages/sklearn/linear_model/stochastic_gradient.py:128: FutureWarning: max_iter and tol parameters have been added in <class 'sklearn.linear_model.stochastic_gradient.SGDClassifier'> in 0.19. If both are left unset, they default to max_iter=5 and tol=None. If tol is not None, max_iter defaults to max_iter=1000. From 0.21, default max_iter will be 1000, and default tol will be 1e-3.\n",
      "  \"and default tol will be 1e-3.\" % type(self), FutureWarning)\n",
      "/opt/conda/lib/python3.6/site-packages/sklearn/linear_model/stochastic_gradient.py:128: FutureWarning: max_iter and tol parameters have been added in <class 'sklearn.linear_model.stochastic_gradient.SGDClassifier'> in 0.19. If both are left unset, they default to max_iter=5 and tol=None. If tol is not None, max_iter defaults to max_iter=1000. From 0.21, default max_iter will be 1000, and default tol will be 1e-3.\n",
      "  \"and default tol will be 1e-3.\" % type(self), FutureWarning)\n",
      "/opt/conda/lib/python3.6/site-packages/sklearn/linear_model/stochastic_gradient.py:128: FutureWarning: max_iter and tol parameters have been added in <class 'sklearn.linear_model.stochastic_gradient.SGDClassifier'> in 0.19. If both are left unset, they default to max_iter=5 and tol=None. If tol is not None, max_iter defaults to max_iter=1000. From 0.21, default max_iter will be 1000, and default tol will be 1e-3.\n",
      "  \"and default tol will be 1e-3.\" % type(self), FutureWarning)\n",
      "/opt/conda/lib/python3.6/site-packages/sklearn/linear_model/stochastic_gradient.py:128: FutureWarning: max_iter and tol parameters have been added in <class 'sklearn.linear_model.stochastic_gradient.SGDClassifier'> in 0.19. If both are left unset, they default to max_iter=5 and tol=None. If tol is not None, max_iter defaults to max_iter=1000. From 0.21, default max_iter will be 1000, and default tol will be 1e-3.\n",
      "  \"and default tol will be 1e-3.\" % type(self), FutureWarning)\n",
      "/opt/conda/lib/python3.6/site-packages/sklearn/linear_model/stochastic_gradient.py:128: FutureWarning: max_iter and tol parameters have been added in <class 'sklearn.linear_model.stochastic_gradient.SGDClassifier'> in 0.19. If both are left unset, they default to max_iter=5 and tol=None. If tol is not None, max_iter defaults to max_iter=1000. From 0.21, default max_iter will be 1000, and default tol will be 1e-3.\n",
      "  \"and default tol will be 1e-3.\" % type(self), FutureWarning)\n",
      "/opt/conda/lib/python3.6/site-packages/sklearn/linear_model/stochastic_gradient.py:128: FutureWarning: max_iter and tol parameters have been added in <class 'sklearn.linear_model.stochastic_gradient.SGDClassifier'> in 0.19. If both are left unset, they default to max_iter=5 and tol=None. If tol is not None, max_iter defaults to max_iter=1000. From 0.21, default max_iter will be 1000, and default tol will be 1e-3.\n",
      "  \"and default tol will be 1e-3.\" % type(self), FutureWarning)\n",
      "/opt/conda/lib/python3.6/site-packages/sklearn/linear_model/stochastic_gradient.py:128: FutureWarning: max_iter and tol parameters have been added in <class 'sklearn.linear_model.stochastic_gradient.SGDClassifier'> in 0.19. If both are left unset, they default to max_iter=5 and tol=None. If tol is not None, max_iter defaults to max_iter=1000. From 0.21, default max_iter will be 1000, and default tol will be 1e-3.\n",
      "  \"and default tol will be 1e-3.\" % type(self), FutureWarning)\n",
      "/opt/conda/lib/python3.6/site-packages/sklearn/linear_model/stochastic_gradient.py:128: FutureWarning: max_iter and tol parameters have been added in <class 'sklearn.linear_model.stochastic_gradient.SGDClassifier'> in 0.19. If both are left unset, they default to max_iter=5 and tol=None. If tol is not None, max_iter defaults to max_iter=1000. From 0.21, default max_iter will be 1000, and default tol will be 1e-3.\n",
      "  \"and default tol will be 1e-3.\" % type(self), FutureWarning)\n",
      "/opt/conda/lib/python3.6/site-packages/sklearn/linear_model/stochastic_gradient.py:128: FutureWarning: max_iter and tol parameters have been added in <class 'sklearn.linear_model.stochastic_gradient.SGDClassifier'> in 0.19. If both are left unset, they default to max_iter=5 and tol=None. If tol is not None, max_iter defaults to max_iter=1000. From 0.21, default max_iter will be 1000, and default tol will be 1e-3.\n",
      "  \"and default tol will be 1e-3.\" % type(self), FutureWarning)\n",
      "/opt/conda/lib/python3.6/site-packages/sklearn/linear_model/stochastic_gradient.py:128: FutureWarning: max_iter and tol parameters have been added in <class 'sklearn.linear_model.stochastic_gradient.SGDClassifier'> in 0.19. If both are left unset, they default to max_iter=5 and tol=None. If tol is not None, max_iter defaults to max_iter=1000. From 0.21, default max_iter will be 1000, and default tol will be 1e-3.\n",
      "  \"and default tol will be 1e-3.\" % type(self), FutureWarning)\n",
      "/opt/conda/lib/python3.6/site-packages/sklearn/linear_model/stochastic_gradient.py:128: FutureWarning: max_iter and tol parameters have been added in <class 'sklearn.linear_model.stochastic_gradient.SGDClassifier'> in 0.19. If both are left unset, they default to max_iter=5 and tol=None. If tol is not None, max_iter defaults to max_iter=1000. From 0.21, default max_iter will be 1000, and default tol will be 1e-3.\n",
      "  \"and default tol will be 1e-3.\" % type(self), FutureWarning)\n",
      "/opt/conda/lib/python3.6/site-packages/sklearn/linear_model/stochastic_gradient.py:128: FutureWarning: max_iter and tol parameters have been added in <class 'sklearn.linear_model.stochastic_gradient.SGDClassifier'> in 0.19. If both are left unset, they default to max_iter=5 and tol=None. If tol is not None, max_iter defaults to max_iter=1000. From 0.21, default max_iter will be 1000, and default tol will be 1e-3.\n",
      "  \"and default tol will be 1e-3.\" % type(self), FutureWarning)\n",
      "/opt/conda/lib/python3.6/site-packages/sklearn/linear_model/stochastic_gradient.py:128: FutureWarning: max_iter and tol parameters have been added in <class 'sklearn.linear_model.stochastic_gradient.SGDClassifier'> in 0.19. If both are left unset, they default to max_iter=5 and tol=None. If tol is not None, max_iter defaults to max_iter=1000. From 0.21, default max_iter will be 1000, and default tol will be 1e-3.\n",
      "  \"and default tol will be 1e-3.\" % type(self), FutureWarning)\n",
      "/opt/conda/lib/python3.6/site-packages/sklearn/linear_model/stochastic_gradient.py:128: FutureWarning: max_iter and tol parameters have been added in <class 'sklearn.linear_model.stochastic_gradient.SGDClassifier'> in 0.19. If both are left unset, they default to max_iter=5 and tol=None. If tol is not None, max_iter defaults to max_iter=1000. From 0.21, default max_iter will be 1000, and default tol will be 1e-3.\n",
      "  \"and default tol will be 1e-3.\" % type(self), FutureWarning)\n",
      "/opt/conda/lib/python3.6/site-packages/sklearn/linear_model/stochastic_gradient.py:128: FutureWarning: max_iter and tol parameters have been added in <class 'sklearn.linear_model.stochastic_gradient.SGDClassifier'> in 0.19. If both are left unset, they default to max_iter=5 and tol=None. If tol is not None, max_iter defaults to max_iter=1000. From 0.21, default max_iter will be 1000, and default tol will be 1e-3.\n",
      "  \"and default tol will be 1e-3.\" % type(self), FutureWarning)\n",
      "/opt/conda/lib/python3.6/site-packages/sklearn/linear_model/stochastic_gradient.py:128: FutureWarning: max_iter and tol parameters have been added in <class 'sklearn.linear_model.stochastic_gradient.SGDClassifier'> in 0.19. If both are left unset, they default to max_iter=5 and tol=None. If tol is not None, max_iter defaults to max_iter=1000. From 0.21, default max_iter will be 1000, and default tol will be 1e-3.\n",
      "  \"and default tol will be 1e-3.\" % type(self), FutureWarning)\n",
      "/opt/conda/lib/python3.6/site-packages/sklearn/linear_model/stochastic_gradient.py:128: FutureWarning: max_iter and tol parameters have been added in <class 'sklearn.linear_model.stochastic_gradient.SGDClassifier'> in 0.19. If both are left unset, they default to max_iter=5 and tol=None. If tol is not None, max_iter defaults to max_iter=1000. From 0.21, default max_iter will be 1000, and default tol will be 1e-3.\n",
      "  \"and default tol will be 1e-3.\" % type(self), FutureWarning)\n",
      "/opt/conda/lib/python3.6/site-packages/sklearn/linear_model/stochastic_gradient.py:128: FutureWarning: max_iter and tol parameters have been added in <class 'sklearn.linear_model.stochastic_gradient.SGDClassifier'> in 0.19. If both are left unset, they default to max_iter=5 and tol=None. If tol is not None, max_iter defaults to max_iter=1000. From 0.21, default max_iter will be 1000, and default tol will be 1e-3.\n",
      "  \"and default tol will be 1e-3.\" % type(self), FutureWarning)\n",
      "/opt/conda/lib/python3.6/site-packages/sklearn/linear_model/stochastic_gradient.py:128: FutureWarning: max_iter and tol parameters have been added in <class 'sklearn.linear_model.stochastic_gradient.SGDClassifier'> in 0.19. If both are left unset, they default to max_iter=5 and tol=None. If tol is not None, max_iter defaults to max_iter=1000. From 0.21, default max_iter will be 1000, and default tol will be 1e-3.\n",
      "  \"and default tol will be 1e-3.\" % type(self), FutureWarning)\n",
      "/opt/conda/lib/python3.6/site-packages/sklearn/linear_model/stochastic_gradient.py:128: FutureWarning: max_iter and tol parameters have been added in <class 'sklearn.linear_model.stochastic_gradient.SGDClassifier'> in 0.19. If both are left unset, they default to max_iter=5 and tol=None. If tol is not None, max_iter defaults to max_iter=1000. From 0.21, default max_iter will be 1000, and default tol will be 1e-3.\n",
      "  \"and default tol will be 1e-3.\" % type(self), FutureWarning)\n",
      "/opt/conda/lib/python3.6/site-packages/sklearn/linear_model/stochastic_gradient.py:128: FutureWarning: max_iter and tol parameters have been added in <class 'sklearn.linear_model.stochastic_gradient.SGDClassifier'> in 0.19. If both are left unset, they default to max_iter=5 and tol=None. If tol is not None, max_iter defaults to max_iter=1000. From 0.21, default max_iter will be 1000, and default tol will be 1e-3.\n",
      "  \"and default tol will be 1e-3.\" % type(self), FutureWarning)\n",
      "/opt/conda/lib/python3.6/site-packages/sklearn/linear_model/stochastic_gradient.py:128: FutureWarning: max_iter and tol parameters have been added in <class 'sklearn.linear_model.stochastic_gradient.SGDClassifier'> in 0.19. If both are left unset, they default to max_iter=5 and tol=None. If tol is not None, max_iter defaults to max_iter=1000. From 0.21, default max_iter will be 1000, and default tol will be 1e-3.\n",
      "  \"and default tol will be 1e-3.\" % type(self), FutureWarning)\n",
      "/opt/conda/lib/python3.6/site-packages/sklearn/linear_model/stochastic_gradient.py:128: FutureWarning: max_iter and tol parameters have been added in <class 'sklearn.linear_model.stochastic_gradient.SGDClassifier'> in 0.19. If both are left unset, they default to max_iter=5 and tol=None. If tol is not None, max_iter defaults to max_iter=1000. From 0.21, default max_iter will be 1000, and default tol will be 1e-3.\n",
      "  \"and default tol will be 1e-3.\" % type(self), FutureWarning)\n",
      "/opt/conda/lib/python3.6/site-packages/sklearn/linear_model/stochastic_gradient.py:128: FutureWarning: max_iter and tol parameters have been added in <class 'sklearn.linear_model.stochastic_gradient.SGDClassifier'> in 0.19. If both are left unset, they default to max_iter=5 and tol=None. If tol is not None, max_iter defaults to max_iter=1000. From 0.21, default max_iter will be 1000, and default tol will be 1e-3.\n",
      "  \"and default tol will be 1e-3.\" % type(self), FutureWarning)\n",
      "/opt/conda/lib/python3.6/site-packages/sklearn/linear_model/stochastic_gradient.py:128: FutureWarning: max_iter and tol parameters have been added in <class 'sklearn.linear_model.stochastic_gradient.SGDClassifier'> in 0.19. If both are left unset, they default to max_iter=5 and tol=None. If tol is not None, max_iter defaults to max_iter=1000. From 0.21, default max_iter will be 1000, and default tol will be 1e-3.\n",
      "  \"and default tol will be 1e-3.\" % type(self), FutureWarning)\n",
      "/opt/conda/lib/python3.6/site-packages/sklearn/linear_model/stochastic_gradient.py:128: FutureWarning: max_iter and tol parameters have been added in <class 'sklearn.linear_model.stochastic_gradient.SGDClassifier'> in 0.19. If both are left unset, they default to max_iter=5 and tol=None. If tol is not None, max_iter defaults to max_iter=1000. From 0.21, default max_iter will be 1000, and default tol will be 1e-3.\n",
      "  \"and default tol will be 1e-3.\" % type(self), FutureWarning)\n",
      "/opt/conda/lib/python3.6/site-packages/sklearn/linear_model/stochastic_gradient.py:128: FutureWarning: max_iter and tol parameters have been added in <class 'sklearn.linear_model.stochastic_gradient.SGDClassifier'> in 0.19. If both are left unset, they default to max_iter=5 and tol=None. If tol is not None, max_iter defaults to max_iter=1000. From 0.21, default max_iter will be 1000, and default tol will be 1e-3.\n",
      "  \"and default tol will be 1e-3.\" % type(self), FutureWarning)\n",
      "/opt/conda/lib/python3.6/site-packages/sklearn/linear_model/stochastic_gradient.py:128: FutureWarning: max_iter and tol parameters have been added in <class 'sklearn.linear_model.stochastic_gradient.SGDClassifier'> in 0.19. If both are left unset, they default to max_iter=5 and tol=None. If tol is not None, max_iter defaults to max_iter=1000. From 0.21, default max_iter will be 1000, and default tol will be 1e-3.\n",
      "  \"and default tol will be 1e-3.\" % type(self), FutureWarning)\n",
      "/opt/conda/lib/python3.6/site-packages/sklearn/linear_model/stochastic_gradient.py:128: FutureWarning: max_iter and tol parameters have been added in <class 'sklearn.linear_model.stochastic_gradient.SGDClassifier'> in 0.19. If both are left unset, they default to max_iter=5 and tol=None. If tol is not None, max_iter defaults to max_iter=1000. From 0.21, default max_iter will be 1000, and default tol will be 1e-3.\n",
      "  \"and default tol will be 1e-3.\" % type(self), FutureWarning)\n",
      "/opt/conda/lib/python3.6/site-packages/sklearn/linear_model/stochastic_gradient.py:128: FutureWarning: max_iter and tol parameters have been added in <class 'sklearn.linear_model.stochastic_gradient.SGDClassifier'> in 0.19. If both are left unset, they default to max_iter=5 and tol=None. If tol is not None, max_iter defaults to max_iter=1000. From 0.21, default max_iter will be 1000, and default tol will be 1e-3.\n",
      "  \"and default tol will be 1e-3.\" % type(self), FutureWarning)\n",
      "/opt/conda/lib/python3.6/site-packages/sklearn/linear_model/stochastic_gradient.py:128: FutureWarning: max_iter and tol parameters have been added in <class 'sklearn.linear_model.stochastic_gradient.SGDClassifier'> in 0.19. If both are left unset, they default to max_iter=5 and tol=None. If tol is not None, max_iter defaults to max_iter=1000. From 0.21, default max_iter will be 1000, and default tol will be 1e-3.\n",
      "  \"and default tol will be 1e-3.\" % type(self), FutureWarning)\n"
     ]
    },
    {
     "data": {
      "text/plain": [
       "Pipeline(memory=None,\n",
       "     steps=[('countvectorizer', CountVectorizer(analyzer='word', binary=False, decode_error='strict',\n",
       "        dtype=<class 'numpy.int64'>, encoding='utf-8', input='content',\n",
       "        lowercase=True, max_df=1.0, max_features=None, min_df=1,\n",
       "        ngram_range=(1, 1), preprocessor=None, stop_words=None,\n",
       "  ...andom_state=123, shuffle=True,\n",
       "       tol=None, verbose=0, warm_start=False),\n",
       "           n_jobs=1))])"
      ]
     },
     "execution_count": 31,
     "metadata": {},
     "output_type": "execute_result"
    }
   ],
   "source": [
    "pipeline_sgd.fit(x_train, y_train)"
   ]
  },
  {
   "cell_type": "code",
   "execution_count": 57,
   "metadata": {},
   "outputs": [
    {
     "name": "stdout",
     "output_type": "stream",
     "text": [
      "             precision    recall  f1-score   support\n",
      "\n",
      "          0       0.85      0.92      0.88      4024\n",
      "          1       0.80      0.40      0.54       889\n",
      "          2       0.00      0.00      0.00        22\n",
      "          3       0.75      0.58      0.66      2187\n",
      "          4       0.52      0.07      0.13       417\n",
      "          5       0.72      0.09      0.16       260\n",
      "          6       0.82      0.20      0.32       135\n",
      "          7       0.00      0.00      0.00        97\n",
      "          8       0.56      0.08      0.14       183\n",
      "          9       0.83      0.39      0.53       339\n",
      "         10       0.85      0.53      0.65       580\n",
      "         11       0.81      0.32      0.46       460\n",
      "         12       0.62      0.12      0.21        80\n",
      "         13       0.64      0.08      0.15       108\n",
      "         14       1.00      0.02      0.03        61\n",
      "         15       0.45      0.03      0.05       179\n",
      "         16       0.83      0.17      0.28       239\n",
      "         17       0.51      0.04      0.08       672\n",
      "         18       0.50      0.02      0.03       328\n",
      "         19       0.55      0.04      0.08       251\n",
      "         20       0.76      0.12      0.21       253\n",
      "         21       0.71      0.05      0.09       100\n",
      "         22       0.00      0.00      0.00        30\n",
      "         23       0.00      0.00      0.00        60\n",
      "         24       0.00      0.00      0.00        26\n",
      "         25       0.00      0.00      0.00        71\n",
      "         26       0.20      0.00      0.01       219\n",
      "         27       0.84      0.61      0.71      1439\n",
      "         28       0.88      0.42      0.57       432\n",
      "         29       0.76      0.40      0.52       485\n",
      "         30       1.00      0.04      0.08        50\n",
      "         31       0.88      0.70      0.78       475\n",
      "         32       1.00      0.06      0.12       109\n",
      "         33       0.54      0.03      0.05       275\n",
      "         34       0.75      0.34      0.46      1021\n",
      "\n",
      "avg / total       0.75      0.49      0.55     16556\n",
      "\n"
     ]
    }
   ],
   "source": [
    "print(rf_report)"
   ]
  },
  {
   "cell_type": "code",
   "execution_count": 58,
   "metadata": {},
   "outputs": [
    {
     "name": "stdout",
     "output_type": "stream",
     "text": [
      "             precision    recall  f1-score   support\n",
      "\n",
      "          0       0.80      0.98      0.88      4024\n",
      "          1       0.84      0.47      0.61       889\n",
      "          2       0.05      0.05      0.05        22\n",
      "          3       0.81      0.54      0.65      2187\n",
      "          4       0.64      0.19      0.29       417\n",
      "          5       0.66      0.27      0.39       260\n",
      "          6       0.45      0.27      0.33       135\n",
      "          7       0.10      0.05      0.07        97\n",
      "          8       0.65      0.26      0.37       183\n",
      "          9       0.78      0.61      0.68       339\n",
      "         10       0.82      0.77      0.80       580\n",
      "         11       0.81      0.57      0.67       460\n",
      "         12       0.59      0.56      0.58        80\n",
      "         13       0.45      0.23      0.30       108\n",
      "         14       0.14      0.10      0.12        61\n",
      "         15       0.46      0.25      0.32       179\n",
      "         16       0.70      0.50      0.58       239\n",
      "         17       0.71      0.09      0.16       672\n",
      "         18       0.44      0.05      0.08       328\n",
      "         19       0.56      0.24      0.34       251\n",
      "         20       0.69      0.37      0.48       253\n",
      "         21       0.49      0.17      0.25       100\n",
      "         22       0.08      0.07      0.07        30\n",
      "         23       0.23      0.08      0.12        60\n",
      "         24       0.00      0.00      0.00        26\n",
      "         25       0.14      0.08      0.11        71\n",
      "         26       0.13      0.02      0.03       219\n",
      "         27       0.88      0.63      0.73      1439\n",
      "         28       0.85      0.57      0.68       432\n",
      "         29       0.78      0.62      0.69       485\n",
      "         30       0.44      0.34      0.38        50\n",
      "         31       0.83      0.81      0.82       475\n",
      "         32       0.63      0.38      0.47       109\n",
      "         33       0.42      0.11      0.17       275\n",
      "         34       0.82      0.34      0.48      1021\n",
      "\n",
      "avg / total       0.74      0.57      0.62     16556\n",
      "\n"
     ]
    }
   ],
   "source": [
    "print(gb_report)"
   ]
  },
  {
   "cell_type": "code",
   "execution_count": 59,
   "metadata": {},
   "outputs": [
    {
     "name": "stdout",
     "output_type": "stream",
     "text": [
      "             precision    recall  f1-score   support\n",
      "\n",
      "          0       0.85      0.95      0.90      4024\n",
      "          1       0.85      0.55      0.67       889\n",
      "          2       0.00      0.00      0.00        22\n",
      "          3       0.79      0.68      0.73      2187\n",
      "          4       0.69      0.18      0.28       417\n",
      "          5       0.72      0.19      0.30       260\n",
      "          6       0.81      0.16      0.26       135\n",
      "          7       0.00      0.00      0.00        97\n",
      "          8       0.78      0.15      0.26       183\n",
      "          9       0.78      0.66      0.71       339\n",
      "         10       0.84      0.75      0.79       580\n",
      "         11       0.83      0.50      0.63       460\n",
      "         12       0.81      0.54      0.65        80\n",
      "         13       0.80      0.04      0.07       108\n",
      "         14       0.00      0.00      0.00        61\n",
      "         15       0.70      0.18      0.29       179\n",
      "         16       0.77      0.40      0.52       239\n",
      "         17       0.65      0.02      0.03       672\n",
      "         18       0.00      0.00      0.00       328\n",
      "         19       0.68      0.10      0.17       251\n",
      "         20       0.79      0.23      0.35       253\n",
      "         21       0.83      0.10      0.18       100\n",
      "         22       0.00      0.00      0.00        30\n",
      "         23       0.00      0.00      0.00        60\n",
      "         24       0.00      0.00      0.00        26\n",
      "         25       0.00      0.00      0.00        71\n",
      "         26       0.00      0.00      0.00       219\n",
      "         27       0.87      0.68      0.76      1439\n",
      "         28       0.92      0.53      0.67       432\n",
      "         29       0.78      0.62      0.69       485\n",
      "         30       0.67      0.08      0.14        50\n",
      "         31       0.88      0.77      0.82       475\n",
      "         32       0.88      0.19      0.32       109\n",
      "         33       0.63      0.04      0.08       275\n",
      "         34       0.78      0.42      0.54      1021\n",
      "\n",
      "avg / total       0.76      0.57      0.62     16556\n",
      "\n"
     ]
    }
   ],
   "source": [
    "print(sgd_report)"
   ]
  },
  {
   "cell_type": "code",
   "execution_count": 60,
   "metadata": {},
   "outputs": [],
   "source": [
    "pgrid = {\n",
    "    'countvectorizer__ngram_range': [(1,2)],\n",
    "    'multioutputclassifier__estimator__alpha': np.logspace(-3, 3, 4), # learning rate\n",
    "    'multioutputclassifier__estimator__max_iter': [1000],\n",
    "    'multioutputclassifier__estimator__loss': ['log'],\n",
    "    'multioutputclassifier__estimator__penalty': ['l2', 'l1', None],\n",
    "    'multioutputclassifier__estimator__n_jobs': [-1]\n",
    "}"
   ]
  },
  {
   "cell_type": "code",
   "execution_count": 61,
   "metadata": {},
   "outputs": [],
   "source": [
    "cv_sgd = GridSearchCV(pipeline_sgd, param_grid=pgrid, cv=5, verbose=4, n_jobs=-1)"
   ]
  },
  {
   "cell_type": "code",
   "execution_count": 62,
   "metadata": {
    "scrolled": true
   },
   "outputs": [
    {
     "name": "stdout",
     "output_type": "stream",
     "text": [
      "Fitting 5 folds for each of 12 candidates, totalling 60 fits\n",
      "[CV] countvectorizer__ngram_range=(1, 2), multioutputclassifier__estimator__alpha=0.001, multioutputclassifier__estimator__loss=log, multioutputclassifier__estimator__max_iter=1000, multioutputclassifier__estimator__n_jobs=-1, multioutputclassifier__estimator__penalty=l2 \n",
      "[CV]  countvectorizer__ngram_range=(1, 2), multioutputclassifier__estimator__alpha=0.001, multioutputclassifier__estimator__loss=log, multioutputclassifier__estimator__max_iter=1000, multioutputclassifier__estimator__n_jobs=-1, multioutputclassifier__estimator__penalty=l2, score=0.19833134684147796, total= 4.8min\n",
      "[CV] countvectorizer__ngram_range=(1, 2), multioutputclassifier__estimator__alpha=0.001, multioutputclassifier__estimator__loss=log, multioutputclassifier__estimator__max_iter=1000, multioutputclassifier__estimator__n_jobs=-1, multioutputclassifier__estimator__penalty=l2 \n"
     ]
    },
    {
     "name": "stderr",
     "output_type": "stream",
     "text": [
      "[Parallel(n_jobs=-1)]: Done   1 out of   1 | elapsed:  6.0min remaining:    0.0s\n"
     ]
    },
    {
     "name": "stdout",
     "output_type": "stream",
     "text": [
      "[CV]  countvectorizer__ngram_range=(1, 2), multioutputclassifier__estimator__alpha=0.001, multioutputclassifier__estimator__loss=log, multioutputclassifier__estimator__max_iter=1000, multioutputclassifier__estimator__n_jobs=-1, multioutputclassifier__estimator__penalty=l2, score=0.18545887961859356, total= 4.9min\n",
      "[CV] countvectorizer__ngram_range=(1, 2), multioutputclassifier__estimator__alpha=0.001, multioutputclassifier__estimator__loss=log, multioutputclassifier__estimator__max_iter=1000, multioutputclassifier__estimator__n_jobs=-1, multioutputclassifier__estimator__penalty=l2 \n"
     ]
    },
    {
     "name": "stderr",
     "output_type": "stream",
     "text": [
      "[Parallel(n_jobs=-1)]: Done   2 out of   2 | elapsed: 12.1min remaining:    0.0s\n"
     ]
    },
    {
     "name": "stdout",
     "output_type": "stream",
     "text": [
      "[CV]  countvectorizer__ngram_range=(1, 2), multioutputclassifier__estimator__alpha=0.001, multioutputclassifier__estimator__loss=log, multioutputclassifier__estimator__max_iter=1000, multioutputclassifier__estimator__n_jobs=-1, multioutputclassifier__estimator__penalty=l2, score=0.19790176442536958, total= 5.3min\n",
      "[CV] countvectorizer__ngram_range=(1, 2), multioutputclassifier__estimator__alpha=0.001, multioutputclassifier__estimator__loss=log, multioutputclassifier__estimator__max_iter=1000, multioutputclassifier__estimator__n_jobs=-1, multioutputclassifier__estimator__penalty=l2 \n"
     ]
    },
    {
     "name": "stderr",
     "output_type": "stream",
     "text": [
      "[Parallel(n_jobs=-1)]: Done   3 out of   3 | elapsed: 18.6min remaining:    0.0s\n"
     ]
    },
    {
     "name": "stdout",
     "output_type": "stream",
     "text": [
      "[CV]  countvectorizer__ngram_range=(1, 2), multioutputclassifier__estimator__alpha=0.001, multioutputclassifier__estimator__loss=log, multioutputclassifier__estimator__max_iter=1000, multioutputclassifier__estimator__n_jobs=-1, multioutputclassifier__estimator__penalty=l2, score=0.19289461134954697, total= 4.9min\n",
      "[CV] countvectorizer__ngram_range=(1, 2), multioutputclassifier__estimator__alpha=0.001, multioutputclassifier__estimator__loss=log, multioutputclassifier__estimator__max_iter=1000, multioutputclassifier__estimator__n_jobs=-1, multioutputclassifier__estimator__penalty=l1 \n",
      "[CV]  countvectorizer__ngram_range=(1, 2), multioutputclassifier__estimator__alpha=0.001, multioutputclassifier__estimator__loss=log, multioutputclassifier__estimator__max_iter=1000, multioutputclassifier__estimator__n_jobs=-1, multioutputclassifier__estimator__penalty=l1, score=0.21382598331346842, total= 6.7min\n",
      "[CV] countvectorizer__ngram_range=(1, 2), multioutputclassifier__estimator__alpha=0.001, multioutputclassifier__estimator__loss=log, multioutputclassifier__estimator__max_iter=1000, multioutputclassifier__estimator__n_jobs=-1, multioutputclassifier__estimator__penalty=l1 \n",
      "[CV]  countvectorizer__ngram_range=(1, 2), multioutputclassifier__estimator__alpha=0.001, multioutputclassifier__estimator__loss=log, multioutputclassifier__estimator__max_iter=1000, multioutputclassifier__estimator__n_jobs=-1, multioutputclassifier__estimator__penalty=l1, score=0.19737783075089393, total= 6.6min\n",
      "[CV] countvectorizer__ngram_range=(1, 2), multioutputclassifier__estimator__alpha=0.001, multioutputclassifier__estimator__loss=log, multioutputclassifier__estimator__max_iter=1000, multioutputclassifier__estimator__n_jobs=-1, multioutputclassifier__estimator__penalty=l1 \n",
      "[CV]  countvectorizer__ngram_range=(1, 2), multioutputclassifier__estimator__alpha=0.001, multioutputclassifier__estimator__loss=log, multioutputclassifier__estimator__max_iter=1000, multioutputclassifier__estimator__n_jobs=-1, multioutputclassifier__estimator__penalty=l1, score=0.20481640438721985, total= 6.5min\n",
      "[CV] countvectorizer__ngram_range=(1, 2), multioutputclassifier__estimator__alpha=0.001, multioutputclassifier__estimator__loss=log, multioutputclassifier__estimator__max_iter=1000, multioutputclassifier__estimator__n_jobs=-1, multioutputclassifier__estimator__penalty=l1 \n",
      "[CV]  countvectorizer__ngram_range=(1, 2), multioutputclassifier__estimator__alpha=0.001, multioutputclassifier__estimator__loss=log, multioutputclassifier__estimator__max_iter=1000, multioutputclassifier__estimator__n_jobs=-1, multioutputclassifier__estimator__penalty=l1, score=0.20577014783023367, total= 6.5min\n",
      "[CV] countvectorizer__ngram_range=(1, 2), multioutputclassifier__estimator__alpha=0.001, multioutputclassifier__estimator__loss=log, multioutputclassifier__estimator__max_iter=1000, multioutputclassifier__estimator__n_jobs=-1, multioutputclassifier__estimator__penalty=l1 \n",
      "[CV]  countvectorizer__ngram_range=(1, 2), multioutputclassifier__estimator__alpha=0.001, multioutputclassifier__estimator__loss=log, multioutputclassifier__estimator__max_iter=1000, multioutputclassifier__estimator__n_jobs=-1, multioutputclassifier__estimator__penalty=l1, score=0.20863137815927515, total= 6.4min\n",
      "[CV] countvectorizer__ngram_range=(1, 2), multioutputclassifier__estimator__alpha=0.001, multioutputclassifier__estimator__loss=log, multioutputclassifier__estimator__max_iter=1000, multioutputclassifier__estimator__n_jobs=-1, multioutputclassifier__estimator__penalty=None \n",
      "[CV]  countvectorizer__ngram_range=(1, 2), multioutputclassifier__estimator__alpha=0.001, multioutputclassifier__estimator__loss=log, multioutputclassifier__estimator__max_iter=1000, multioutputclassifier__estimator__n_jobs=-1, multioutputclassifier__estimator__penalty=None, score=0.2803337306317044, total= 4.9min\n",
      "[CV] countvectorizer__ngram_range=(1, 2), multioutputclassifier__estimator__alpha=0.001, multioutputclassifier__estimator__loss=log, multioutputclassifier__estimator__max_iter=1000, multioutputclassifier__estimator__n_jobs=-1, multioutputclassifier__estimator__penalty=None \n",
      "[CV]  countvectorizer__ngram_range=(1, 2), multioutputclassifier__estimator__alpha=0.001, multioutputclassifier__estimator__loss=log, multioutputclassifier__estimator__max_iter=1000, multioutputclassifier__estimator__n_jobs=-1, multioutputclassifier__estimator__penalty=None, score=0.25411203814064365, total= 4.8min\n",
      "[CV] countvectorizer__ngram_range=(1, 2), multioutputclassifier__estimator__alpha=0.001, multioutputclassifier__estimator__loss=log, multioutputclassifier__estimator__max_iter=1000, multioutputclassifier__estimator__n_jobs=-1, multioutputclassifier__estimator__penalty=None \n",
      "[CV]  countvectorizer__ngram_range=(1, 2), multioutputclassifier__estimator__alpha=0.001, multioutputclassifier__estimator__loss=log, multioutputclassifier__estimator__max_iter=1000, multioutputclassifier__estimator__n_jobs=-1, multioutputclassifier__estimator__penalty=None, score=0.2701478302336671, total= 4.9min\n",
      "[CV] countvectorizer__ngram_range=(1, 2), multioutputclassifier__estimator__alpha=0.001, multioutputclassifier__estimator__loss=log, multioutputclassifier__estimator__max_iter=1000, multioutputclassifier__estimator__n_jobs=-1, multioutputclassifier__estimator__penalty=None \n",
      "[CV]  countvectorizer__ngram_range=(1, 2), multioutputclassifier__estimator__alpha=0.001, multioutputclassifier__estimator__loss=log, multioutputclassifier__estimator__max_iter=1000, multioutputclassifier__estimator__n_jobs=-1, multioutputclassifier__estimator__penalty=None, score=0.26514067715784456, total= 5.0min\n",
      "[CV] countvectorizer__ngram_range=(1, 2), multioutputclassifier__estimator__alpha=0.001, multioutputclassifier__estimator__loss=log, multioutputclassifier__estimator__max_iter=1000, multioutputclassifier__estimator__n_jobs=-1, multioutputclassifier__estimator__penalty=None \n",
      "[CV]  countvectorizer__ngram_range=(1, 2), multioutputclassifier__estimator__alpha=0.001, multioutputclassifier__estimator__loss=log, multioutputclassifier__estimator__max_iter=1000, multioutputclassifier__estimator__n_jobs=-1, multioutputclassifier__estimator__penalty=None, score=0.26013352408202195, total= 5.0min\n",
      "[CV] countvectorizer__ngram_range=(1, 2), multioutputclassifier__estimator__alpha=0.1, multioutputclassifier__estimator__loss=log, multioutputclassifier__estimator__max_iter=1000, multioutputclassifier__estimator__n_jobs=-1, multioutputclassifier__estimator__penalty=l2 \n",
      "[CV]  countvectorizer__ngram_range=(1, 2), multioutputclassifier__estimator__alpha=0.1, multioutputclassifier__estimator__loss=log, multioutputclassifier__estimator__max_iter=1000, multioutputclassifier__estimator__n_jobs=-1, multioutputclassifier__estimator__penalty=l2, score=0.2066746126340882, total= 5.1min\n",
      "[CV] countvectorizer__ngram_range=(1, 2), multioutputclassifier__estimator__alpha=0.1, multioutputclassifier__estimator__loss=log, multioutputclassifier__estimator__max_iter=1000, multioutputclassifier__estimator__n_jobs=-1, multioutputclassifier__estimator__penalty=l2 \n",
      "[CV]  countvectorizer__ngram_range=(1, 2), multioutputclassifier__estimator__alpha=0.1, multioutputclassifier__estimator__loss=log, multioutputclassifier__estimator__max_iter=1000, multioutputclassifier__estimator__n_jobs=-1, multioutputclassifier__estimator__penalty=l2, score=0.19427890345649582, total= 5.1min\n",
      "[CV] countvectorizer__ngram_range=(1, 2), multioutputclassifier__estimator__alpha=0.1, multioutputclassifier__estimator__loss=log, multioutputclassifier__estimator__max_iter=1000, multioutputclassifier__estimator__n_jobs=-1, multioutputclassifier__estimator__penalty=l2 \n",
      "[CV]  countvectorizer__ngram_range=(1, 2), multioutputclassifier__estimator__alpha=0.1, multioutputclassifier__estimator__loss=log, multioutputclassifier__estimator__max_iter=1000, multioutputclassifier__estimator__n_jobs=-1, multioutputclassifier__estimator__penalty=l2, score=0.20743919885550788, total= 5.2min\n",
      "[CV] countvectorizer__ngram_range=(1, 2), multioutputclassifier__estimator__alpha=0.1, multioutputclassifier__estimator__loss=log, multioutputclassifier__estimator__max_iter=1000, multioutputclassifier__estimator__n_jobs=-1, multioutputclassifier__estimator__penalty=l2 \n",
      "[CV]  countvectorizer__ngram_range=(1, 2), multioutputclassifier__estimator__alpha=0.1, multioutputclassifier__estimator__loss=log, multioutputclassifier__estimator__max_iter=1000, multioutputclassifier__estimator__n_jobs=-1, multioutputclassifier__estimator__penalty=l2, score=0.20934668574153553, total= 4.8min\n",
      "[CV] countvectorizer__ngram_range=(1, 2), multioutputclassifier__estimator__alpha=0.1, multioutputclassifier__estimator__loss=log, multioutputclassifier__estimator__max_iter=1000, multioutputclassifier__estimator__n_jobs=-1, multioutputclassifier__estimator__penalty=l2 \n",
      "[CV]  countvectorizer__ngram_range=(1, 2), multioutputclassifier__estimator__alpha=0.1, multioutputclassifier__estimator__loss=log, multioutputclassifier__estimator__max_iter=1000, multioutputclassifier__estimator__n_jobs=-1, multioutputclassifier__estimator__penalty=l2, score=0.2033857892226991, total= 4.7min\n",
      "[CV] countvectorizer__ngram_range=(1, 2), multioutputclassifier__estimator__alpha=0.1, multioutputclassifier__estimator__loss=log, multioutputclassifier__estimator__max_iter=1000, multioutputclassifier__estimator__n_jobs=-1, multioutputclassifier__estimator__penalty=l1 \n",
      "[CV]  countvectorizer__ngram_range=(1, 2), multioutputclassifier__estimator__alpha=0.1, multioutputclassifier__estimator__loss=log, multioutputclassifier__estimator__max_iter=1000, multioutputclassifier__estimator__n_jobs=-1, multioutputclassifier__estimator__penalty=l1, score=0.2066746126340882, total= 6.3min\n",
      "[CV] countvectorizer__ngram_range=(1, 2), multioutputclassifier__estimator__alpha=0.1, multioutputclassifier__estimator__loss=log, multioutputclassifier__estimator__max_iter=1000, multioutputclassifier__estimator__n_jobs=-1, multioutputclassifier__estimator__penalty=l1 \n",
      "[CV]  countvectorizer__ngram_range=(1, 2), multioutputclassifier__estimator__alpha=0.1, multioutputclassifier__estimator__loss=log, multioutputclassifier__estimator__max_iter=1000, multioutputclassifier__estimator__n_jobs=-1, multioutputclassifier__estimator__penalty=l1, score=0.19427890345649582, total= 6.1min\n",
      "[CV] countvectorizer__ngram_range=(1, 2), multioutputclassifier__estimator__alpha=0.1, multioutputclassifier__estimator__loss=log, multioutputclassifier__estimator__max_iter=1000, multioutputclassifier__estimator__n_jobs=-1, multioutputclassifier__estimator__penalty=l1 \n",
      "[CV]  countvectorizer__ngram_range=(1, 2), multioutputclassifier__estimator__alpha=0.1, multioutputclassifier__estimator__loss=log, multioutputclassifier__estimator__max_iter=1000, multioutputclassifier__estimator__n_jobs=-1, multioutputclassifier__estimator__penalty=l1, score=0.20743919885550788, total= 6.2min\n",
      "[CV] countvectorizer__ngram_range=(1, 2), multioutputclassifier__estimator__alpha=0.1, multioutputclassifier__estimator__loss=log, multioutputclassifier__estimator__max_iter=1000, multioutputclassifier__estimator__n_jobs=-1, multioutputclassifier__estimator__penalty=l1 \n",
      "[CV]  countvectorizer__ngram_range=(1, 2), multioutputclassifier__estimator__alpha=0.1, multioutputclassifier__estimator__loss=log, multioutputclassifier__estimator__max_iter=1000, multioutputclassifier__estimator__n_jobs=-1, multioutputclassifier__estimator__penalty=l1, score=0.20934668574153553, total= 6.2min\n",
      "[CV] countvectorizer__ngram_range=(1, 2), multioutputclassifier__estimator__alpha=0.1, multioutputclassifier__estimator__loss=log, multioutputclassifier__estimator__max_iter=1000, multioutputclassifier__estimator__n_jobs=-1, multioutputclassifier__estimator__penalty=l1 \n",
      "[CV]  countvectorizer__ngram_range=(1, 2), multioutputclassifier__estimator__alpha=0.1, multioutputclassifier__estimator__loss=log, multioutputclassifier__estimator__max_iter=1000, multioutputclassifier__estimator__n_jobs=-1, multioutputclassifier__estimator__penalty=l1, score=0.2033857892226991, total= 6.2min\n",
      "[CV] countvectorizer__ngram_range=(1, 2), multioutputclassifier__estimator__alpha=0.1, multioutputclassifier__estimator__loss=log, multioutputclassifier__estimator__max_iter=1000, multioutputclassifier__estimator__n_jobs=-1, multioutputclassifier__estimator__penalty=None \n",
      "[CV]  countvectorizer__ngram_range=(1, 2), multioutputclassifier__estimator__alpha=0.1, multioutputclassifier__estimator__loss=log, multioutputclassifier__estimator__max_iter=1000, multioutputclassifier__estimator__n_jobs=-1, multioutputclassifier__estimator__penalty=None, score=0.20095351609058404, total= 4.6min\n",
      "[CV] countvectorizer__ngram_range=(1, 2), multioutputclassifier__estimator__alpha=0.1, multioutputclassifier__estimator__loss=log, multioutputclassifier__estimator__max_iter=1000, multioutputclassifier__estimator__n_jobs=-1, multioutputclassifier__estimator__penalty=None \n",
      "[CV]  countvectorizer__ngram_range=(1, 2), multioutputclassifier__estimator__alpha=0.1, multioutputclassifier__estimator__loss=log, multioutputclassifier__estimator__max_iter=1000, multioutputclassifier__estimator__n_jobs=-1, multioutputclassifier__estimator__penalty=None, score=0.1907032181168057, total= 4.8min\n",
      "[CV] countvectorizer__ngram_range=(1, 2), multioutputclassifier__estimator__alpha=0.1, multioutputclassifier__estimator__loss=log, multioutputclassifier__estimator__max_iter=1000, multioutputclassifier__estimator__n_jobs=-1, multioutputclassifier__estimator__penalty=None \n",
      "[CV]  countvectorizer__ngram_range=(1, 2), multioutputclassifier__estimator__alpha=0.1, multioutputclassifier__estimator__loss=log, multioutputclassifier__estimator__max_iter=1000, multioutputclassifier__estimator__n_jobs=-1, multioutputclassifier__estimator__penalty=None, score=0.19575584167858845, total= 4.6min\n",
      "[CV] countvectorizer__ngram_range=(1, 2), multioutputclassifier__estimator__alpha=0.1, multioutputclassifier__estimator__loss=log, multioutputclassifier__estimator__max_iter=1000, multioutputclassifier__estimator__n_jobs=-1, multioutputclassifier__estimator__penalty=None \n",
      "[CV]  countvectorizer__ngram_range=(1, 2), multioutputclassifier__estimator__alpha=0.1, multioutputclassifier__estimator__loss=log, multioutputclassifier__estimator__max_iter=1000, multioutputclassifier__estimator__n_jobs=-1, multioutputclassifier__estimator__penalty=None, score=0.19694802098235575, total= 4.7min\n",
      "[CV] countvectorizer__ngram_range=(1, 2), multioutputclassifier__estimator__alpha=0.1, multioutputclassifier__estimator__loss=log, multioutputclassifier__estimator__max_iter=1000, multioutputclassifier__estimator__n_jobs=-1, multioutputclassifier__estimator__penalty=None \n",
      "[CV]  countvectorizer__ngram_range=(1, 2), multioutputclassifier__estimator__alpha=0.1, multioutputclassifier__estimator__loss=log, multioutputclassifier__estimator__max_iter=1000, multioutputclassifier__estimator__n_jobs=-1, multioutputclassifier__estimator__penalty=None, score=0.19599427753934193, total= 4.7min\n",
      "[CV] countvectorizer__ngram_range=(1, 2), multioutputclassifier__estimator__alpha=10.0, multioutputclassifier__estimator__loss=log, multioutputclassifier__estimator__max_iter=1000, multioutputclassifier__estimator__n_jobs=-1, multioutputclassifier__estimator__penalty=l2 \n",
      "[CV]  countvectorizer__ngram_range=(1, 2), multioutputclassifier__estimator__alpha=10.0, multioutputclassifier__estimator__loss=log, multioutputclassifier__estimator__max_iter=1000, multioutputclassifier__estimator__n_jobs=-1, multioutputclassifier__estimator__penalty=l2, score=0.2066746126340882, total= 4.7min\n",
      "[CV] countvectorizer__ngram_range=(1, 2), multioutputclassifier__estimator__alpha=10.0, multioutputclassifier__estimator__loss=log, multioutputclassifier__estimator__max_iter=1000, multioutputclassifier__estimator__n_jobs=-1, multioutputclassifier__estimator__penalty=l2 \n",
      "[CV]  countvectorizer__ngram_range=(1, 2), multioutputclassifier__estimator__alpha=10.0, multioutputclassifier__estimator__loss=log, multioutputclassifier__estimator__max_iter=1000, multioutputclassifier__estimator__n_jobs=-1, multioutputclassifier__estimator__penalty=l2, score=0.19427890345649582, total= 4.6min\n",
      "[CV] countvectorizer__ngram_range=(1, 2), multioutputclassifier__estimator__alpha=10.0, multioutputclassifier__estimator__loss=log, multioutputclassifier__estimator__max_iter=1000, multioutputclassifier__estimator__n_jobs=-1, multioutputclassifier__estimator__penalty=l2 \n",
      "[CV]  countvectorizer__ngram_range=(1, 2), multioutputclassifier__estimator__alpha=10.0, multioutputclassifier__estimator__loss=log, multioutputclassifier__estimator__max_iter=1000, multioutputclassifier__estimator__n_jobs=-1, multioutputclassifier__estimator__penalty=l2, score=0.20743919885550788, total= 4.6min\n",
      "[CV] countvectorizer__ngram_range=(1, 2), multioutputclassifier__estimator__alpha=10.0, multioutputclassifier__estimator__loss=log, multioutputclassifier__estimator__max_iter=1000, multioutputclassifier__estimator__n_jobs=-1, multioutputclassifier__estimator__penalty=l2 \n",
      "[CV]  countvectorizer__ngram_range=(1, 2), multioutputclassifier__estimator__alpha=10.0, multioutputclassifier__estimator__loss=log, multioutputclassifier__estimator__max_iter=1000, multioutputclassifier__estimator__n_jobs=-1, multioutputclassifier__estimator__penalty=l2, score=0.0, total= 4.6min\n",
      "[CV] countvectorizer__ngram_range=(1, 2), multioutputclassifier__estimator__alpha=10.0, multioutputclassifier__estimator__loss=log, multioutputclassifier__estimator__max_iter=1000, multioutputclassifier__estimator__n_jobs=-1, multioutputclassifier__estimator__penalty=l2 \n",
      "[CV]  countvectorizer__ngram_range=(1, 2), multioutputclassifier__estimator__alpha=10.0, multioutputclassifier__estimator__loss=log, multioutputclassifier__estimator__max_iter=1000, multioutputclassifier__estimator__n_jobs=-1, multioutputclassifier__estimator__penalty=l2, score=0.0, total= 4.6min\n",
      "[CV] countvectorizer__ngram_range=(1, 2), multioutputclassifier__estimator__alpha=10.0, multioutputclassifier__estimator__loss=log, multioutputclassifier__estimator__max_iter=1000, multioutputclassifier__estimator__n_jobs=-1, multioutputclassifier__estimator__penalty=l1 \n",
      "[CV]  countvectorizer__ngram_range=(1, 2), multioutputclassifier__estimator__alpha=10.0, multioutputclassifier__estimator__loss=log, multioutputclassifier__estimator__max_iter=1000, multioutputclassifier__estimator__n_jobs=-1, multioutputclassifier__estimator__penalty=l1, score=0.2066746126340882, total= 6.3min\n",
      "[CV] countvectorizer__ngram_range=(1, 2), multioutputclassifier__estimator__alpha=10.0, multioutputclassifier__estimator__loss=log, multioutputclassifier__estimator__max_iter=1000, multioutputclassifier__estimator__n_jobs=-1, multioutputclassifier__estimator__penalty=l1 \n",
      "[CV]  countvectorizer__ngram_range=(1, 2), multioutputclassifier__estimator__alpha=10.0, multioutputclassifier__estimator__loss=log, multioutputclassifier__estimator__max_iter=1000, multioutputclassifier__estimator__n_jobs=-1, multioutputclassifier__estimator__penalty=l1, score=0.19427890345649582, total= 6.3min\n",
      "[CV] countvectorizer__ngram_range=(1, 2), multioutputclassifier__estimator__alpha=10.0, multioutputclassifier__estimator__loss=log, multioutputclassifier__estimator__max_iter=1000, multioutputclassifier__estimator__n_jobs=-1, multioutputclassifier__estimator__penalty=l1 \n",
      "[CV]  countvectorizer__ngram_range=(1, 2), multioutputclassifier__estimator__alpha=10.0, multioutputclassifier__estimator__loss=log, multioutputclassifier__estimator__max_iter=1000, multioutputclassifier__estimator__n_jobs=-1, multioutputclassifier__estimator__penalty=l1, score=0.20743919885550788, total= 6.4min\n",
      "[CV] countvectorizer__ngram_range=(1, 2), multioutputclassifier__estimator__alpha=10.0, multioutputclassifier__estimator__loss=log, multioutputclassifier__estimator__max_iter=1000, multioutputclassifier__estimator__n_jobs=-1, multioutputclassifier__estimator__penalty=l1 \n",
      "[CV]  countvectorizer__ngram_range=(1, 2), multioutputclassifier__estimator__alpha=10.0, multioutputclassifier__estimator__loss=log, multioutputclassifier__estimator__max_iter=1000, multioutputclassifier__estimator__n_jobs=-1, multioutputclassifier__estimator__penalty=l1, score=0.0, total= 6.4min\n",
      "[CV] countvectorizer__ngram_range=(1, 2), multioutputclassifier__estimator__alpha=10.0, multioutputclassifier__estimator__loss=log, multioutputclassifier__estimator__max_iter=1000, multioutputclassifier__estimator__n_jobs=-1, multioutputclassifier__estimator__penalty=l1 \n",
      "[CV]  countvectorizer__ngram_range=(1, 2), multioutputclassifier__estimator__alpha=10.0, multioutputclassifier__estimator__loss=log, multioutputclassifier__estimator__max_iter=1000, multioutputclassifier__estimator__n_jobs=-1, multioutputclassifier__estimator__penalty=l1, score=0.0, total= 6.5min\n",
      "[CV] countvectorizer__ngram_range=(1, 2), multioutputclassifier__estimator__alpha=10.0, multioutputclassifier__estimator__loss=log, multioutputclassifier__estimator__max_iter=1000, multioutputclassifier__estimator__n_jobs=-1, multioutputclassifier__estimator__penalty=None \n",
      "[CV]  countvectorizer__ngram_range=(1, 2), multioutputclassifier__estimator__alpha=10.0, multioutputclassifier__estimator__loss=log, multioutputclassifier__estimator__max_iter=1000, multioutputclassifier__estimator__n_jobs=-1, multioutputclassifier__estimator__penalty=None, score=0.2064362336114422, total= 4.8min\n",
      "[CV] countvectorizer__ngram_range=(1, 2), multioutputclassifier__estimator__alpha=10.0, multioutputclassifier__estimator__loss=log, multioutputclassifier__estimator__max_iter=1000, multioutputclassifier__estimator__n_jobs=-1, multioutputclassifier__estimator__penalty=None \n",
      "[CV]  countvectorizer__ngram_range=(1, 2), multioutputclassifier__estimator__alpha=10.0, multioutputclassifier__estimator__loss=log, multioutputclassifier__estimator__max_iter=1000, multioutputclassifier__estimator__n_jobs=-1, multioutputclassifier__estimator__penalty=None, score=0.1940405244338498, total= 4.8min\n",
      "[CV] countvectorizer__ngram_range=(1, 2), multioutputclassifier__estimator__alpha=10.0, multioutputclassifier__estimator__loss=log, multioutputclassifier__estimator__max_iter=1000, multioutputclassifier__estimator__n_jobs=-1, multioutputclassifier__estimator__penalty=None \n",
      "[CV]  countvectorizer__ngram_range=(1, 2), multioutputclassifier__estimator__alpha=10.0, multioutputclassifier__estimator__loss=log, multioutputclassifier__estimator__max_iter=1000, multioutputclassifier__estimator__n_jobs=-1, multioutputclassifier__estimator__penalty=None, score=0.2072007629947544, total= 4.7min\n",
      "[CV] countvectorizer__ngram_range=(1, 2), multioutputclassifier__estimator__alpha=10.0, multioutputclassifier__estimator__loss=log, multioutputclassifier__estimator__max_iter=1000, multioutputclassifier__estimator__n_jobs=-1, multioutputclassifier__estimator__penalty=None \n",
      "[CV]  countvectorizer__ngram_range=(1, 2), multioutputclassifier__estimator__alpha=10.0, multioutputclassifier__estimator__loss=log, multioutputclassifier__estimator__max_iter=1000, multioutputclassifier__estimator__n_jobs=-1, multioutputclassifier__estimator__penalty=None, score=0.01430615164520744, total= 4.7min\n",
      "[CV] countvectorizer__ngram_range=(1, 2), multioutputclassifier__estimator__alpha=10.0, multioutputclassifier__estimator__loss=log, multioutputclassifier__estimator__max_iter=1000, multioutputclassifier__estimator__n_jobs=-1, multioutputclassifier__estimator__penalty=None \n",
      "[CV]  countvectorizer__ngram_range=(1, 2), multioutputclassifier__estimator__alpha=10.0, multioutputclassifier__estimator__loss=log, multioutputclassifier__estimator__max_iter=1000, multioutputclassifier__estimator__n_jobs=-1, multioutputclassifier__estimator__penalty=None, score=0.02145922746781116, total= 5.0min\n",
      "[CV] countvectorizer__ngram_range=(1, 2), multioutputclassifier__estimator__alpha=1000.0, multioutputclassifier__estimator__loss=log, multioutputclassifier__estimator__max_iter=1000, multioutputclassifier__estimator__n_jobs=-1, multioutputclassifier__estimator__penalty=l2 \n",
      "[CV]  countvectorizer__ngram_range=(1, 2), multioutputclassifier__estimator__alpha=1000.0, multioutputclassifier__estimator__loss=log, multioutputclassifier__estimator__max_iter=1000, multioutputclassifier__estimator__n_jobs=-1, multioutputclassifier__estimator__penalty=l2, score=0.2066746126340882, total= 4.6min\n",
      "[CV] countvectorizer__ngram_range=(1, 2), multioutputclassifier__estimator__alpha=1000.0, multioutputclassifier__estimator__loss=log, multioutputclassifier__estimator__max_iter=1000, multioutputclassifier__estimator__n_jobs=-1, multioutputclassifier__estimator__penalty=l2 \n",
      "[CV]  countvectorizer__ngram_range=(1, 2), multioutputclassifier__estimator__alpha=1000.0, multioutputclassifier__estimator__loss=log, multioutputclassifier__estimator__max_iter=1000, multioutputclassifier__estimator__n_jobs=-1, multioutputclassifier__estimator__penalty=l2, score=0.19427890345649582, total= 4.8min\n",
      "[CV] countvectorizer__ngram_range=(1, 2), multioutputclassifier__estimator__alpha=1000.0, multioutputclassifier__estimator__loss=log, multioutputclassifier__estimator__max_iter=1000, multioutputclassifier__estimator__n_jobs=-1, multioutputclassifier__estimator__penalty=l2 \n",
      "[CV]  countvectorizer__ngram_range=(1, 2), multioutputclassifier__estimator__alpha=1000.0, multioutputclassifier__estimator__loss=log, multioutputclassifier__estimator__max_iter=1000, multioutputclassifier__estimator__n_jobs=-1, multioutputclassifier__estimator__penalty=l2, score=0.20743919885550788, total= 4.9min\n",
      "[CV] countvectorizer__ngram_range=(1, 2), multioutputclassifier__estimator__alpha=1000.0, multioutputclassifier__estimator__loss=log, multioutputclassifier__estimator__max_iter=1000, multioutputclassifier__estimator__n_jobs=-1, multioutputclassifier__estimator__penalty=l2 \n",
      "[CV]  countvectorizer__ngram_range=(1, 2), multioutputclassifier__estimator__alpha=1000.0, multioutputclassifier__estimator__loss=log, multioutputclassifier__estimator__max_iter=1000, multioutputclassifier__estimator__n_jobs=-1, multioutputclassifier__estimator__penalty=l2, score=0.0004768717215069146, total= 5.1min\n",
      "[CV] countvectorizer__ngram_range=(1, 2), multioutputclassifier__estimator__alpha=1000.0, multioutputclassifier__estimator__loss=log, multioutputclassifier__estimator__max_iter=1000, multioutputclassifier__estimator__n_jobs=-1, multioutputclassifier__estimator__penalty=l2 \n",
      "[CV]  countvectorizer__ngram_range=(1, 2), multioutputclassifier__estimator__alpha=1000.0, multioutputclassifier__estimator__loss=log, multioutputclassifier__estimator__max_iter=1000, multioutputclassifier__estimator__n_jobs=-1, multioutputclassifier__estimator__penalty=l2, score=0.0002384358607534573, total= 5.2min\n",
      "[CV] countvectorizer__ngram_range=(1, 2), multioutputclassifier__estimator__alpha=1000.0, multioutputclassifier__estimator__loss=log, multioutputclassifier__estimator__max_iter=1000, multioutputclassifier__estimator__n_jobs=-1, multioutputclassifier__estimator__penalty=l1 \n",
      "[CV]  countvectorizer__ngram_range=(1, 2), multioutputclassifier__estimator__alpha=1000.0, multioutputclassifier__estimator__loss=log, multioutputclassifier__estimator__max_iter=1000, multioutputclassifier__estimator__n_jobs=-1, multioutputclassifier__estimator__penalty=l1, score=0.2066746126340882, total= 7.3min\n",
      "[CV] countvectorizer__ngram_range=(1, 2), multioutputclassifier__estimator__alpha=1000.0, multioutputclassifier__estimator__loss=log, multioutputclassifier__estimator__max_iter=1000, multioutputclassifier__estimator__n_jobs=-1, multioutputclassifier__estimator__penalty=l1 \n",
      "[CV]  countvectorizer__ngram_range=(1, 2), multioutputclassifier__estimator__alpha=1000.0, multioutputclassifier__estimator__loss=log, multioutputclassifier__estimator__max_iter=1000, multioutputclassifier__estimator__n_jobs=-1, multioutputclassifier__estimator__penalty=l1, score=0.19427890345649582, total= 7.3min\n",
      "[CV] countvectorizer__ngram_range=(1, 2), multioutputclassifier__estimator__alpha=1000.0, multioutputclassifier__estimator__loss=log, multioutputclassifier__estimator__max_iter=1000, multioutputclassifier__estimator__n_jobs=-1, multioutputclassifier__estimator__penalty=l1 \n",
      "[CV]  countvectorizer__ngram_range=(1, 2), multioutputclassifier__estimator__alpha=1000.0, multioutputclassifier__estimator__loss=log, multioutputclassifier__estimator__max_iter=1000, multioutputclassifier__estimator__n_jobs=-1, multioutputclassifier__estimator__penalty=l1, score=0.20743919885550788, total= 7.2min\n",
      "[CV] countvectorizer__ngram_range=(1, 2), multioutputclassifier__estimator__alpha=1000.0, multioutputclassifier__estimator__loss=log, multioutputclassifier__estimator__max_iter=1000, multioutputclassifier__estimator__n_jobs=-1, multioutputclassifier__estimator__penalty=l1 \n",
      "[CV]  countvectorizer__ngram_range=(1, 2), multioutputclassifier__estimator__alpha=1000.0, multioutputclassifier__estimator__loss=log, multioutputclassifier__estimator__max_iter=1000, multioutputclassifier__estimator__n_jobs=-1, multioutputclassifier__estimator__penalty=l1, score=0.0004768717215069146, total= 7.0min\n",
      "[CV] countvectorizer__ngram_range=(1, 2), multioutputclassifier__estimator__alpha=1000.0, multioutputclassifier__estimator__loss=log, multioutputclassifier__estimator__max_iter=1000, multioutputclassifier__estimator__n_jobs=-1, multioutputclassifier__estimator__penalty=l1 \n",
      "[CV]  countvectorizer__ngram_range=(1, 2), multioutputclassifier__estimator__alpha=1000.0, multioutputclassifier__estimator__loss=log, multioutputclassifier__estimator__max_iter=1000, multioutputclassifier__estimator__n_jobs=-1, multioutputclassifier__estimator__penalty=l1, score=0.0002384358607534573, total= 7.1min\n",
      "[CV] countvectorizer__ngram_range=(1, 2), multioutputclassifier__estimator__alpha=1000.0, multioutputclassifier__estimator__loss=log, multioutputclassifier__estimator__max_iter=1000, multioutputclassifier__estimator__n_jobs=-1, multioutputclassifier__estimator__penalty=None \n",
      "[CV]  countvectorizer__ngram_range=(1, 2), multioutputclassifier__estimator__alpha=1000.0, multioutputclassifier__estimator__loss=log, multioutputclassifier__estimator__max_iter=1000, multioutputclassifier__estimator__n_jobs=-1, multioutputclassifier__estimator__penalty=None, score=0.2066746126340882, total= 4.9min\n",
      "[CV] countvectorizer__ngram_range=(1, 2), multioutputclassifier__estimator__alpha=1000.0, multioutputclassifier__estimator__loss=log, multioutputclassifier__estimator__max_iter=1000, multioutputclassifier__estimator__n_jobs=-1, multioutputclassifier__estimator__penalty=None \n",
      "[CV]  countvectorizer__ngram_range=(1, 2), multioutputclassifier__estimator__alpha=1000.0, multioutputclassifier__estimator__loss=log, multioutputclassifier__estimator__max_iter=1000, multioutputclassifier__estimator__n_jobs=-1, multioutputclassifier__estimator__penalty=None, score=0.19427890345649582, total= 4.6min\n",
      "[CV] countvectorizer__ngram_range=(1, 2), multioutputclassifier__estimator__alpha=1000.0, multioutputclassifier__estimator__loss=log, multioutputclassifier__estimator__max_iter=1000, multioutputclassifier__estimator__n_jobs=-1, multioutputclassifier__estimator__penalty=None \n",
      "[CV]  countvectorizer__ngram_range=(1, 2), multioutputclassifier__estimator__alpha=1000.0, multioutputclassifier__estimator__loss=log, multioutputclassifier__estimator__max_iter=1000, multioutputclassifier__estimator__n_jobs=-1, multioutputclassifier__estimator__penalty=None, score=0.20743919885550788, total= 4.7min\n",
      "[CV] countvectorizer__ngram_range=(1, 2), multioutputclassifier__estimator__alpha=1000.0, multioutputclassifier__estimator__loss=log, multioutputclassifier__estimator__max_iter=1000, multioutputclassifier__estimator__n_jobs=-1, multioutputclassifier__estimator__penalty=None \n",
      "[CV]  countvectorizer__ngram_range=(1, 2), multioutputclassifier__estimator__alpha=1000.0, multioutputclassifier__estimator__loss=log, multioutputclassifier__estimator__max_iter=1000, multioutputclassifier__estimator__n_jobs=-1, multioutputclassifier__estimator__penalty=None, score=0.0004768717215069146, total= 4.7min\n",
      "[CV] countvectorizer__ngram_range=(1, 2), multioutputclassifier__estimator__alpha=1000.0, multioutputclassifier__estimator__loss=log, multioutputclassifier__estimator__max_iter=1000, multioutputclassifier__estimator__n_jobs=-1, multioutputclassifier__estimator__penalty=None \n",
      "[CV]  countvectorizer__ngram_range=(1, 2), multioutputclassifier__estimator__alpha=1000.0, multioutputclassifier__estimator__loss=log, multioutputclassifier__estimator__max_iter=1000, multioutputclassifier__estimator__n_jobs=-1, multioutputclassifier__estimator__penalty=None, score=0.0002384358607534573, total= 4.7min\n"
     ]
    },
    {
     "name": "stderr",
     "output_type": "stream",
     "text": [
      "[Parallel(n_jobs=-1)]: Done  60 out of  60 | elapsed: 396.4min finished\n"
     ]
    },
    {
     "data": {
      "text/plain": [
       "GridSearchCV(cv=5, error_score='raise',\n",
       "       estimator=Pipeline(memory=None,\n",
       "     steps=[('countvectorizer', CountVectorizer(analyzer='word', binary=False, decode_error='strict',\n",
       "        dtype=<class 'numpy.int64'>, encoding='utf-8', input='content',\n",
       "        lowercase=True, max_df=1.0, max_features=None, min_df=1,\n",
       "        ngram_range=(1, 1), preprocessor=None, stop_words=None,\n",
       "  ...andom_state=123, shuffle=True,\n",
       "       tol=None, verbose=0, warm_start=False),\n",
       "           n_jobs=1))]),\n",
       "       fit_params=None, iid=True, n_jobs=-1,\n",
       "       param_grid={'countvectorizer__ngram_range': [(1, 2)], 'multioutputclassifier__estimator__alpha': array([  1.00000e-03,   1.00000e-01,   1.00000e+01,   1.00000e+03]), 'multioutputclassifier__estimator__max_iter': [1000], 'multioutputclassifier__estimator__loss': ['log'], 'multioutputclassifier__estimator__penalty': ['l2', 'l1', None], 'multioutputclassifier__estimator__n_jobs': [-1]},\n",
       "       pre_dispatch='2*n_jobs', refit=True, return_train_score='warn',\n",
       "       scoring=None, verbose=4)"
      ]
     },
     "execution_count": 62,
     "metadata": {},
     "output_type": "execute_result"
    }
   ],
   "source": [
    "cv_sgd.fit(x_train, y_train)"
   ]
  },
  {
   "cell_type": "code",
   "execution_count": 63,
   "metadata": {},
   "outputs": [
    {
     "data": {
      "text/plain": [
       "{'countvectorizer__ngram_range': (1, 2),\n",
       " 'multioutputclassifier__estimator__alpha': 0.001,\n",
       " 'multioutputclassifier__estimator__loss': 'log',\n",
       " 'multioutputclassifier__estimator__max_iter': 1000,\n",
       " 'multioutputclassifier__estimator__n_jobs': -1,\n",
       " 'multioutputclassifier__estimator__penalty': None}"
      ]
     },
     "execution_count": 63,
     "metadata": {},
     "output_type": "execute_result"
    }
   ],
   "source": [
    "cv_sgd.best_params_"
   ]
  },
  {
   "cell_type": "code",
   "execution_count": 64,
   "metadata": {},
   "outputs": [
    {
     "data": {
      "text/plain": [
       "Pipeline(memory=None,\n",
       "     steps=[('countvectorizer', CountVectorizer(analyzer='word', binary=False, decode_error='strict',\n",
       "        dtype=<class 'numpy.int64'>, encoding='utf-8', input='content',\n",
       "        lowercase=True, max_df=1.0, max_features=None, min_df=1,\n",
       "        ngram_range=(1, 2), preprocessor=None, stop_words=None,\n",
       "  ...andom_state=123,\n",
       "       shuffle=True, tol=None, verbose=0, warm_start=False),\n",
       "           n_jobs=1))])"
      ]
     },
     "execution_count": 64,
     "metadata": {},
     "output_type": "execute_result"
    }
   ],
   "source": [
    "pipeline_sgd.set_params(**cv_sgd.best_params_)"
   ]
  },
  {
   "cell_type": "code",
   "execution_count": 65,
   "metadata": {},
   "outputs": [
    {
     "data": {
      "text/plain": [
       "Pipeline(memory=None,\n",
       "     steps=[('countvectorizer', CountVectorizer(analyzer='word', binary=False, decode_error='strict',\n",
       "        dtype=<class 'numpy.int64'>, encoding='utf-8', input='content',\n",
       "        lowercase=True, max_df=1.0, max_features=None, min_df=1,\n",
       "        ngram_range=(1, 2), preprocessor=None, stop_words=None,\n",
       "  ...andom_state=123,\n",
       "       shuffle=True, tol=None, verbose=0, warm_start=False),\n",
       "           n_jobs=1))])"
      ]
     },
     "execution_count": 65,
     "metadata": {},
     "output_type": "execute_result"
    }
   ],
   "source": [
    "pipeline_sgd.fit(x_train, y_train)"
   ]
  },
  {
   "cell_type": "code",
   "execution_count": 66,
   "metadata": {},
   "outputs": [],
   "source": [
    "y_predict_sgd = pipeline_sgd.predict(x_test)"
   ]
  },
  {
   "cell_type": "code",
   "execution_count": 67,
   "metadata": {},
   "outputs": [
    {
     "name": "stdout",
     "output_type": "stream",
     "text": [
      "             precision    recall  f1-score   support\n",
      "\n",
      "          0       0.83      0.96      0.89      4024\n",
      "          1       0.79      0.59      0.68       889\n",
      "          2       0.00      0.00      0.00        22\n",
      "          3       0.73      0.72      0.73      2187\n",
      "          4       0.69      0.14      0.24       417\n",
      "          5       0.74      0.12      0.21       260\n",
      "          6       0.00      0.00      0.00       135\n",
      "          7       0.00      0.00      0.00        97\n",
      "          8       0.00      0.00      0.00       183\n",
      "          9       0.79      0.58      0.67       339\n",
      "         10       0.85      0.63      0.72       580\n",
      "         11       0.82      0.44      0.57       460\n",
      "         12       0.89      0.21      0.34        80\n",
      "         13       0.75      0.03      0.05       108\n",
      "         14       0.00      0.00      0.00        61\n",
      "         15       0.60      0.02      0.03       179\n",
      "         16       0.84      0.13      0.22       239\n",
      "         17       0.63      0.15      0.24       672\n",
      "         18       0.40      0.01      0.01       328\n",
      "         19       0.73      0.08      0.14       251\n",
      "         20       0.76      0.19      0.30       253\n",
      "         21       1.00      0.03      0.06       100\n",
      "         22       0.00      0.00      0.00        30\n",
      "         23       0.00      0.00      0.00        60\n",
      "         24       0.00      0.00      0.00        26\n",
      "         25       0.00      0.00      0.00        71\n",
      "         26       0.00      0.00      0.00       219\n",
      "         27       0.83      0.67      0.74      1439\n",
      "         28       0.90      0.45      0.60       432\n",
      "         29       0.77      0.47      0.58       485\n",
      "         30       0.00      0.00      0.00        50\n",
      "         31       0.88      0.60      0.72       475\n",
      "         32       0.50      0.01      0.02       109\n",
      "         33       1.00      0.00      0.01       275\n",
      "         34       0.73      0.49      0.58      1021\n",
      "\n",
      "avg / total       0.74      0.56      0.59     16556\n",
      "\n"
     ]
    },
    {
     "name": "stderr",
     "output_type": "stream",
     "text": [
      "/opt/conda/lib/python3.6/site-packages/sklearn/metrics/classification.py:1135: UndefinedMetricWarning: Precision and F-score are ill-defined and being set to 0.0 in labels with no predicted samples.\n",
      "  'precision', 'predicted', average, warn_for)\n"
     ]
    }
   ],
   "source": [
    "print(classification_report(y_test.values,y_predict_sgd))"
   ]
  },
  {
   "cell_type": "markdown",
   "metadata": {},
   "source": [
    "### 9. Export your model as a pickle file"
   ]
  },
  {
   "cell_type": "code",
   "execution_count": 70,
   "metadata": {},
   "outputs": [],
   "source": [
    "import pickle"
   ]
  },
  {
   "cell_type": "code",
   "execution_count": 71,
   "metadata": {},
   "outputs": [],
   "source": [
    "with open('pipeline_lg.pkl', 'wb') as model:\n",
    "    pickle.dump(pipeline_lg, model)"
   ]
  },
  {
   "cell_type": "markdown",
   "metadata": {},
   "source": [
    "### 10. Use this notebook to complete `train.py`\n",
    "Use the template file attached in the Resources folder to write a script that runs the steps above to create a database and export a model based on a new dataset specified by the user."
   ]
  },
  {
   "cell_type": "code",
   "execution_count": null,
   "metadata": {},
   "outputs": [],
   "source": []
  }
 ],
 "metadata": {
  "kernelspec": {
   "display_name": "Azure",
   "language": "python",
   "name": "python3"
  },
  "language_info": {
   "codemirror_mode": {
    "name": "ipython",
    "version": 3
   },
   "file_extension": ".py",
   "mimetype": "text/x-python",
   "name": "python",
   "nbconvert_exporter": "python",
   "pygments_lexer": "ipython3",
   "version": "3.8.15"
  },
  "vscode": {
   "interpreter": {
    "hash": "472f74f8e41ea1abd30e6e408d7fab9d20a5b912938d959fbf41272fd6c412f9"
   }
  }
 },
 "nbformat": 4,
 "nbformat_minor": 2
}
